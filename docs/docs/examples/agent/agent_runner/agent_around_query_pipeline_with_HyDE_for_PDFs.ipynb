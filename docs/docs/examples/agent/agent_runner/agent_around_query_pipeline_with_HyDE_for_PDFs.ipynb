{
  "cells": [
    {
      "cell_type": "markdown",
      "metadata": {
        "id": "l-wZHPuovZfM"
      },
      "source": [
        "# Building a Multi-PDF Agent using Query Pipelines and HyDE\n",
        "\n",
        "<a href=\"https://colab.research.google.com/github/run-llama/llama_index/blob/main/docs/docs/examples/agent/agent_runner/agent_around_query_pipeline_with_HyDE_for_PDFs.ipynb\" target=\"_parent\"><img src=\"https://colab.research.google.com/assets/colab-badge.svg\" alt=\"Open In Colab\"/></a>\n",
        "\n",
        "In this example, we show you how to build a multi-PDF agent that can reason across multiple tools, each one corresponding to a RAG pipeline with HyDE over a document.\n",
        "\n",
        "Author: https://github.com/DoganK01\n",
        "\n",
        "## **Install Dependencies**"
      ]
    },
    {
      "cell_type": "code",
      "execution_count": 153,
      "metadata": {
        "colab": {
          "base_uri": "https://localhost:8080/"
        },
        "id": "jULpMkp3vZfQ",
        "outputId": "84780a9a-169d-484a-955a-7685134f3191"
      },
      "outputs": [
        {
          "output_type": "stream",
          "name": "stdout",
          "text": [
            "Requirement already satisfied: llama-index-llms-groq in /usr/local/lib/python3.10/dist-packages (0.3.1)\n",
            "Requirement already satisfied: llama-index-core<0.13.0,>=0.12.0 in /usr/local/lib/python3.10/dist-packages (from llama-index-llms-groq) (0.12.9)\n",
            "Requirement already satisfied: llama-index-llms-openai-like<0.4.0,>=0.3.1 in /usr/local/lib/python3.10/dist-packages (from llama-index-llms-groq) (0.3.3)\n",
            "Requirement already satisfied: PyYAML>=6.0.1 in /usr/local/lib/python3.10/dist-packages (from llama-index-core<0.13.0,>=0.12.0->llama-index-llms-groq) (6.0.2)\n",
            "Requirement already satisfied: SQLAlchemy>=1.4.49 in /usr/local/lib/python3.10/dist-packages (from SQLAlchemy[asyncio]>=1.4.49->llama-index-core<0.13.0,>=0.12.0->llama-index-llms-groq) (2.0.36)\n",
            "Requirement already satisfied: aiohttp<4.0.0,>=3.8.6 in /usr/local/lib/python3.10/dist-packages (from llama-index-core<0.13.0,>=0.12.0->llama-index-llms-groq) (3.11.10)\n",
            "Requirement already satisfied: dataclasses-json in /usr/local/lib/python3.10/dist-packages (from llama-index-core<0.13.0,>=0.12.0->llama-index-llms-groq) (0.6.7)\n",
            "Requirement already satisfied: deprecated>=1.2.9.3 in /usr/local/lib/python3.10/dist-packages (from llama-index-core<0.13.0,>=0.12.0->llama-index-llms-groq) (1.2.15)\n",
            "Requirement already satisfied: dirtyjson<2.0.0,>=1.0.8 in /usr/local/lib/python3.10/dist-packages (from llama-index-core<0.13.0,>=0.12.0->llama-index-llms-groq) (1.0.8)\n",
            "Requirement already satisfied: filetype<2.0.0,>=1.2.0 in /usr/local/lib/python3.10/dist-packages (from llama-index-core<0.13.0,>=0.12.0->llama-index-llms-groq) (1.2.0)\n",
            "Requirement already satisfied: fsspec>=2023.5.0 in /usr/local/lib/python3.10/dist-packages (from llama-index-core<0.13.0,>=0.12.0->llama-index-llms-groq) (2024.10.0)\n",
            "Requirement already satisfied: httpx in /usr/local/lib/python3.10/dist-packages (from llama-index-core<0.13.0,>=0.12.0->llama-index-llms-groq) (0.28.1)\n",
            "Requirement already satisfied: nest-asyncio<2.0.0,>=1.5.8 in /usr/local/lib/python3.10/dist-packages (from llama-index-core<0.13.0,>=0.12.0->llama-index-llms-groq) (1.6.0)\n",
            "Requirement already satisfied: networkx>=3.0 in /usr/local/lib/python3.10/dist-packages (from llama-index-core<0.13.0,>=0.12.0->llama-index-llms-groq) (3.4.2)\n",
            "Requirement already satisfied: nltk>3.8.1 in /usr/local/lib/python3.10/dist-packages (from llama-index-core<0.13.0,>=0.12.0->llama-index-llms-groq) (3.9.1)\n",
            "Requirement already satisfied: numpy in /usr/local/lib/python3.10/dist-packages (from llama-index-core<0.13.0,>=0.12.0->llama-index-llms-groq) (1.26.4)\n",
            "Requirement already satisfied: pillow>=9.0.0 in /usr/local/lib/python3.10/dist-packages (from llama-index-core<0.13.0,>=0.12.0->llama-index-llms-groq) (11.0.0)\n",
            "Requirement already satisfied: pydantic>=2.8.0 in /usr/local/lib/python3.10/dist-packages (from llama-index-core<0.13.0,>=0.12.0->llama-index-llms-groq) (2.10.3)\n",
            "Requirement already satisfied: requests>=2.31.0 in /usr/local/lib/python3.10/dist-packages (from llama-index-core<0.13.0,>=0.12.0->llama-index-llms-groq) (2.32.3)\n",
            "Requirement already satisfied: tenacity!=8.4.0,<10.0.0,>=8.2.0 in /usr/local/lib/python3.10/dist-packages (from llama-index-core<0.13.0,>=0.12.0->llama-index-llms-groq) (9.0.0)\n",
            "Requirement already satisfied: tiktoken>=0.3.3 in /usr/local/lib/python3.10/dist-packages (from llama-index-core<0.13.0,>=0.12.0->llama-index-llms-groq) (0.8.0)\n",
            "Requirement already satisfied: tqdm<5.0.0,>=4.66.1 in /usr/local/lib/python3.10/dist-packages (from llama-index-core<0.13.0,>=0.12.0->llama-index-llms-groq) (4.67.1)\n",
            "Requirement already satisfied: typing-extensions>=4.5.0 in /usr/local/lib/python3.10/dist-packages (from llama-index-core<0.13.0,>=0.12.0->llama-index-llms-groq) (4.12.2)\n",
            "Requirement already satisfied: typing-inspect>=0.8.0 in /usr/local/lib/python3.10/dist-packages (from llama-index-core<0.13.0,>=0.12.0->llama-index-llms-groq) (0.9.0)\n",
            "Requirement already satisfied: wrapt in /usr/local/lib/python3.10/dist-packages (from llama-index-core<0.13.0,>=0.12.0->llama-index-llms-groq) (1.17.0)\n",
            "Requirement already satisfied: llama-index-llms-openai<0.4.0,>=0.3.9 in /usr/local/lib/python3.10/dist-packages (from llama-index-llms-openai-like<0.4.0,>=0.3.1->llama-index-llms-groq) (0.3.12)\n",
            "Requirement already satisfied: transformers<5.0.0,>=4.37.0 in /usr/local/lib/python3.10/dist-packages (from llama-index-llms-openai-like<0.4.0,>=0.3.1->llama-index-llms-groq) (4.47.1)\n",
            "Requirement already satisfied: aiohappyeyeballs>=2.3.0 in /usr/local/lib/python3.10/dist-packages (from aiohttp<4.0.0,>=3.8.6->llama-index-core<0.13.0,>=0.12.0->llama-index-llms-groq) (2.4.4)\n",
            "Requirement already satisfied: aiosignal>=1.1.2 in /usr/local/lib/python3.10/dist-packages (from aiohttp<4.0.0,>=3.8.6->llama-index-core<0.13.0,>=0.12.0->llama-index-llms-groq) (1.3.2)\n",
            "Requirement already satisfied: async-timeout<6.0,>=4.0 in /usr/local/lib/python3.10/dist-packages (from aiohttp<4.0.0,>=3.8.6->llama-index-core<0.13.0,>=0.12.0->llama-index-llms-groq) (4.0.3)\n",
            "Requirement already satisfied: attrs>=17.3.0 in /usr/local/lib/python3.10/dist-packages (from aiohttp<4.0.0,>=3.8.6->llama-index-core<0.13.0,>=0.12.0->llama-index-llms-groq) (24.3.0)\n",
            "Requirement already satisfied: frozenlist>=1.1.1 in /usr/local/lib/python3.10/dist-packages (from aiohttp<4.0.0,>=3.8.6->llama-index-core<0.13.0,>=0.12.0->llama-index-llms-groq) (1.5.0)\n",
            "Requirement already satisfied: multidict<7.0,>=4.5 in /usr/local/lib/python3.10/dist-packages (from aiohttp<4.0.0,>=3.8.6->llama-index-core<0.13.0,>=0.12.0->llama-index-llms-groq) (6.1.0)\n",
            "Requirement already satisfied: propcache>=0.2.0 in /usr/local/lib/python3.10/dist-packages (from aiohttp<4.0.0,>=3.8.6->llama-index-core<0.13.0,>=0.12.0->llama-index-llms-groq) (0.2.1)\n",
            "Requirement already satisfied: yarl<2.0,>=1.17.0 in /usr/local/lib/python3.10/dist-packages (from aiohttp<4.0.0,>=3.8.6->llama-index-core<0.13.0,>=0.12.0->llama-index-llms-groq) (1.18.3)\n",
            "Requirement already satisfied: openai<2.0.0,>=1.58.1 in /usr/local/lib/python3.10/dist-packages (from llama-index-llms-openai<0.4.0,>=0.3.9->llama-index-llms-openai-like<0.4.0,>=0.3.1->llama-index-llms-groq) (1.59.3)\n",
            "Requirement already satisfied: click in /usr/local/lib/python3.10/dist-packages (from nltk>3.8.1->llama-index-core<0.13.0,>=0.12.0->llama-index-llms-groq) (8.1.7)\n",
            "Requirement already satisfied: joblib in /usr/local/lib/python3.10/dist-packages (from nltk>3.8.1->llama-index-core<0.13.0,>=0.12.0->llama-index-llms-groq) (1.4.2)\n",
            "Requirement already satisfied: regex>=2021.8.3 in /usr/local/lib/python3.10/dist-packages (from nltk>3.8.1->llama-index-core<0.13.0,>=0.12.0->llama-index-llms-groq) (2024.11.6)\n",
            "Requirement already satisfied: annotated-types>=0.6.0 in /usr/local/lib/python3.10/dist-packages (from pydantic>=2.8.0->llama-index-core<0.13.0,>=0.12.0->llama-index-llms-groq) (0.7.0)\n",
            "Requirement already satisfied: pydantic-core==2.27.1 in /usr/local/lib/python3.10/dist-packages (from pydantic>=2.8.0->llama-index-core<0.13.0,>=0.12.0->llama-index-llms-groq) (2.27.1)\n",
            "Requirement already satisfied: charset-normalizer<4,>=2 in /usr/local/lib/python3.10/dist-packages (from requests>=2.31.0->llama-index-core<0.13.0,>=0.12.0->llama-index-llms-groq) (3.4.0)\n",
            "Requirement already satisfied: idna<4,>=2.5 in /usr/local/lib/python3.10/dist-packages (from requests>=2.31.0->llama-index-core<0.13.0,>=0.12.0->llama-index-llms-groq) (3.10)\n",
            "Requirement already satisfied: urllib3<3,>=1.21.1 in /usr/local/lib/python3.10/dist-packages (from requests>=2.31.0->llama-index-core<0.13.0,>=0.12.0->llama-index-llms-groq) (2.2.3)\n",
            "Requirement already satisfied: certifi>=2017.4.17 in /usr/local/lib/python3.10/dist-packages (from requests>=2.31.0->llama-index-core<0.13.0,>=0.12.0->llama-index-llms-groq) (2024.12.14)\n",
            "Requirement already satisfied: greenlet!=0.4.17 in /usr/local/lib/python3.10/dist-packages (from SQLAlchemy>=1.4.49->SQLAlchemy[asyncio]>=1.4.49->llama-index-core<0.13.0,>=0.12.0->llama-index-llms-groq) (3.1.1)\n",
            "Requirement already satisfied: filelock in /usr/local/lib/python3.10/dist-packages (from transformers<5.0.0,>=4.37.0->llama-index-llms-openai-like<0.4.0,>=0.3.1->llama-index-llms-groq) (3.16.1)\n",
            "Requirement already satisfied: huggingface-hub<1.0,>=0.24.0 in /usr/local/lib/python3.10/dist-packages (from transformers<5.0.0,>=4.37.0->llama-index-llms-openai-like<0.4.0,>=0.3.1->llama-index-llms-groq) (0.27.0)\n",
            "Requirement already satisfied: packaging>=20.0 in /usr/local/lib/python3.10/dist-packages (from transformers<5.0.0,>=4.37.0->llama-index-llms-openai-like<0.4.0,>=0.3.1->llama-index-llms-groq) (24.2)\n",
            "Requirement already satisfied: tokenizers<0.22,>=0.21 in /usr/local/lib/python3.10/dist-packages (from transformers<5.0.0,>=4.37.0->llama-index-llms-openai-like<0.4.0,>=0.3.1->llama-index-llms-groq) (0.21.0)\n",
            "Requirement already satisfied: safetensors>=0.4.1 in /usr/local/lib/python3.10/dist-packages (from transformers<5.0.0,>=4.37.0->llama-index-llms-openai-like<0.4.0,>=0.3.1->llama-index-llms-groq) (0.4.5)\n",
            "Requirement already satisfied: mypy-extensions>=0.3.0 in /usr/local/lib/python3.10/dist-packages (from typing-inspect>=0.8.0->llama-index-core<0.13.0,>=0.12.0->llama-index-llms-groq) (1.0.0)\n",
            "Requirement already satisfied: marshmallow<4.0.0,>=3.18.0 in /usr/local/lib/python3.10/dist-packages (from dataclasses-json->llama-index-core<0.13.0,>=0.12.0->llama-index-llms-groq) (3.23.3)\n",
            "Requirement already satisfied: anyio in /usr/local/lib/python3.10/dist-packages (from httpx->llama-index-core<0.13.0,>=0.12.0->llama-index-llms-groq) (3.7.1)\n",
            "Requirement already satisfied: httpcore==1.* in /usr/local/lib/python3.10/dist-packages (from httpx->llama-index-core<0.13.0,>=0.12.0->llama-index-llms-groq) (1.0.7)\n",
            "Requirement already satisfied: h11<0.15,>=0.13 in /usr/local/lib/python3.10/dist-packages (from httpcore==1.*->httpx->llama-index-core<0.13.0,>=0.12.0->llama-index-llms-groq) (0.14.0)\n",
            "Requirement already satisfied: distro<2,>=1.7.0 in /usr/local/lib/python3.10/dist-packages (from openai<2.0.0,>=1.58.1->llama-index-llms-openai<0.4.0,>=0.3.9->llama-index-llms-openai-like<0.4.0,>=0.3.1->llama-index-llms-groq) (1.9.0)\n",
            "Requirement already satisfied: jiter<1,>=0.4.0 in /usr/local/lib/python3.10/dist-packages (from openai<2.0.0,>=1.58.1->llama-index-llms-openai<0.4.0,>=0.3.9->llama-index-llms-openai-like<0.4.0,>=0.3.1->llama-index-llms-groq) (0.8.2)\n",
            "Requirement already satisfied: sniffio in /usr/local/lib/python3.10/dist-packages (from openai<2.0.0,>=1.58.1->llama-index-llms-openai<0.4.0,>=0.3.9->llama-index-llms-openai-like<0.4.0,>=0.3.1->llama-index-llms-groq) (1.3.1)\n",
            "Requirement already satisfied: exceptiongroup in /usr/local/lib/python3.10/dist-packages (from anyio->httpx->llama-index-core<0.13.0,>=0.12.0->llama-index-llms-groq) (1.2.2)\n",
            "Requirement already satisfied: llama-index in /usr/local/lib/python3.10/dist-packages (0.12.9)\n",
            "Requirement already satisfied: llama-index-agent-openai<0.5.0,>=0.4.0 in /usr/local/lib/python3.10/dist-packages (from llama-index) (0.4.1)\n",
            "Requirement already satisfied: llama-index-cli<0.5.0,>=0.4.0 in /usr/local/lib/python3.10/dist-packages (from llama-index) (0.4.0)\n",
            "Requirement already satisfied: llama-index-core<0.13.0,>=0.12.9 in /usr/local/lib/python3.10/dist-packages (from llama-index) (0.12.9)\n",
            "Requirement already satisfied: llama-index-embeddings-openai<0.4.0,>=0.3.0 in /usr/local/lib/python3.10/dist-packages (from llama-index) (0.3.1)\n",
            "Requirement already satisfied: llama-index-indices-managed-llama-cloud>=0.4.0 in /usr/local/lib/python3.10/dist-packages (from llama-index) (0.6.3)\n",
            "Requirement already satisfied: llama-index-llms-openai<0.4.0,>=0.3.0 in /usr/local/lib/python3.10/dist-packages (from llama-index) (0.3.12)\n",
            "Requirement already satisfied: llama-index-multi-modal-llms-openai<0.5.0,>=0.4.0 in /usr/local/lib/python3.10/dist-packages (from llama-index) (0.4.2)\n",
            "Requirement already satisfied: llama-index-program-openai<0.4.0,>=0.3.0 in /usr/local/lib/python3.10/dist-packages (from llama-index) (0.3.1)\n",
            "Requirement already satisfied: llama-index-question-gen-openai<0.4.0,>=0.3.0 in /usr/local/lib/python3.10/dist-packages (from llama-index) (0.3.0)\n",
            "Requirement already satisfied: llama-index-readers-file<0.5.0,>=0.4.0 in /usr/local/lib/python3.10/dist-packages (from llama-index) (0.4.2)\n",
            "Requirement already satisfied: llama-index-readers-llama-parse>=0.4.0 in /usr/local/lib/python3.10/dist-packages (from llama-index) (0.4.0)\n",
            "Requirement already satisfied: nltk>3.8.1 in /usr/local/lib/python3.10/dist-packages (from llama-index) (3.9.1)\n",
            "Requirement already satisfied: openai>=1.14.0 in /usr/local/lib/python3.10/dist-packages (from llama-index-agent-openai<0.5.0,>=0.4.0->llama-index) (1.59.3)\n",
            "Requirement already satisfied: PyYAML>=6.0.1 in /usr/local/lib/python3.10/dist-packages (from llama-index-core<0.13.0,>=0.12.9->llama-index) (6.0.2)\n",
            "Requirement already satisfied: SQLAlchemy>=1.4.49 in /usr/local/lib/python3.10/dist-packages (from SQLAlchemy[asyncio]>=1.4.49->llama-index-core<0.13.0,>=0.12.9->llama-index) (2.0.36)\n",
            "Requirement already satisfied: aiohttp<4.0.0,>=3.8.6 in /usr/local/lib/python3.10/dist-packages (from llama-index-core<0.13.0,>=0.12.9->llama-index) (3.11.10)\n",
            "Requirement already satisfied: dataclasses-json in /usr/local/lib/python3.10/dist-packages (from llama-index-core<0.13.0,>=0.12.9->llama-index) (0.6.7)\n",
            "Requirement already satisfied: deprecated>=1.2.9.3 in /usr/local/lib/python3.10/dist-packages (from llama-index-core<0.13.0,>=0.12.9->llama-index) (1.2.15)\n",
            "Requirement already satisfied: dirtyjson<2.0.0,>=1.0.8 in /usr/local/lib/python3.10/dist-packages (from llama-index-core<0.13.0,>=0.12.9->llama-index) (1.0.8)\n",
            "Requirement already satisfied: filetype<2.0.0,>=1.2.0 in /usr/local/lib/python3.10/dist-packages (from llama-index-core<0.13.0,>=0.12.9->llama-index) (1.2.0)\n",
            "Requirement already satisfied: fsspec>=2023.5.0 in /usr/local/lib/python3.10/dist-packages (from llama-index-core<0.13.0,>=0.12.9->llama-index) (2024.10.0)\n",
            "Requirement already satisfied: httpx in /usr/local/lib/python3.10/dist-packages (from llama-index-core<0.13.0,>=0.12.9->llama-index) (0.28.1)\n",
            "Requirement already satisfied: nest-asyncio<2.0.0,>=1.5.8 in /usr/local/lib/python3.10/dist-packages (from llama-index-core<0.13.0,>=0.12.9->llama-index) (1.6.0)\n",
            "Requirement already satisfied: networkx>=3.0 in /usr/local/lib/python3.10/dist-packages (from llama-index-core<0.13.0,>=0.12.9->llama-index) (3.4.2)\n",
            "Requirement already satisfied: numpy in /usr/local/lib/python3.10/dist-packages (from llama-index-core<0.13.0,>=0.12.9->llama-index) (1.26.4)\n",
            "Requirement already satisfied: pillow>=9.0.0 in /usr/local/lib/python3.10/dist-packages (from llama-index-core<0.13.0,>=0.12.9->llama-index) (11.0.0)\n",
            "Requirement already satisfied: pydantic>=2.8.0 in /usr/local/lib/python3.10/dist-packages (from llama-index-core<0.13.0,>=0.12.9->llama-index) (2.10.3)\n",
            "Requirement already satisfied: requests>=2.31.0 in /usr/local/lib/python3.10/dist-packages (from llama-index-core<0.13.0,>=0.12.9->llama-index) (2.32.3)\n",
            "Requirement already satisfied: tenacity!=8.4.0,<10.0.0,>=8.2.0 in /usr/local/lib/python3.10/dist-packages (from llama-index-core<0.13.0,>=0.12.9->llama-index) (9.0.0)\n",
            "Requirement already satisfied: tiktoken>=0.3.3 in /usr/local/lib/python3.10/dist-packages (from llama-index-core<0.13.0,>=0.12.9->llama-index) (0.8.0)\n",
            "Requirement already satisfied: tqdm<5.0.0,>=4.66.1 in /usr/local/lib/python3.10/dist-packages (from llama-index-core<0.13.0,>=0.12.9->llama-index) (4.67.1)\n",
            "Requirement already satisfied: typing-extensions>=4.5.0 in /usr/local/lib/python3.10/dist-packages (from llama-index-core<0.13.0,>=0.12.9->llama-index) (4.12.2)\n",
            "Requirement already satisfied: typing-inspect>=0.8.0 in /usr/local/lib/python3.10/dist-packages (from llama-index-core<0.13.0,>=0.12.9->llama-index) (0.9.0)\n",
            "Requirement already satisfied: wrapt in /usr/local/lib/python3.10/dist-packages (from llama-index-core<0.13.0,>=0.12.9->llama-index) (1.17.0)\n",
            "Requirement already satisfied: llama-cloud>=0.1.5 in /usr/local/lib/python3.10/dist-packages (from llama-index-indices-managed-llama-cloud>=0.4.0->llama-index) (0.1.7)\n",
            "Requirement already satisfied: beautifulsoup4<5.0.0,>=4.12.3 in /usr/local/lib/python3.10/dist-packages (from llama-index-readers-file<0.5.0,>=0.4.0->llama-index) (4.12.3)\n",
            "Requirement already satisfied: pandas in /usr/local/lib/python3.10/dist-packages (from llama-index-readers-file<0.5.0,>=0.4.0->llama-index) (2.2.2)\n",
            "Requirement already satisfied: pypdf<6.0.0,>=5.1.0 in /usr/local/lib/python3.10/dist-packages (from llama-index-readers-file<0.5.0,>=0.4.0->llama-index) (5.1.0)\n",
            "Requirement already satisfied: striprtf<0.0.27,>=0.0.26 in /usr/local/lib/python3.10/dist-packages (from llama-index-readers-file<0.5.0,>=0.4.0->llama-index) (0.0.26)\n",
            "Requirement already satisfied: llama-parse>=0.5.0 in /usr/local/lib/python3.10/dist-packages (from llama-index-readers-llama-parse>=0.4.0->llama-index) (0.5.19)\n",
            "Requirement already satisfied: click in /usr/local/lib/python3.10/dist-packages (from nltk>3.8.1->llama-index) (8.1.7)\n",
            "Requirement already satisfied: joblib in /usr/local/lib/python3.10/dist-packages (from nltk>3.8.1->llama-index) (1.4.2)\n",
            "Requirement already satisfied: regex>=2021.8.3 in /usr/local/lib/python3.10/dist-packages (from nltk>3.8.1->llama-index) (2024.11.6)\n",
            "Requirement already satisfied: aiohappyeyeballs>=2.3.0 in /usr/local/lib/python3.10/dist-packages (from aiohttp<4.0.0,>=3.8.6->llama-index-core<0.13.0,>=0.12.9->llama-index) (2.4.4)\n",
            "Requirement already satisfied: aiosignal>=1.1.2 in /usr/local/lib/python3.10/dist-packages (from aiohttp<4.0.0,>=3.8.6->llama-index-core<0.13.0,>=0.12.9->llama-index) (1.3.2)\n",
            "Requirement already satisfied: async-timeout<6.0,>=4.0 in /usr/local/lib/python3.10/dist-packages (from aiohttp<4.0.0,>=3.8.6->llama-index-core<0.13.0,>=0.12.9->llama-index) (4.0.3)\n",
            "Requirement already satisfied: attrs>=17.3.0 in /usr/local/lib/python3.10/dist-packages (from aiohttp<4.0.0,>=3.8.6->llama-index-core<0.13.0,>=0.12.9->llama-index) (24.3.0)\n",
            "Requirement already satisfied: frozenlist>=1.1.1 in /usr/local/lib/python3.10/dist-packages (from aiohttp<4.0.0,>=3.8.6->llama-index-core<0.13.0,>=0.12.9->llama-index) (1.5.0)\n",
            "Requirement already satisfied: multidict<7.0,>=4.5 in /usr/local/lib/python3.10/dist-packages (from aiohttp<4.0.0,>=3.8.6->llama-index-core<0.13.0,>=0.12.9->llama-index) (6.1.0)\n",
            "Requirement already satisfied: propcache>=0.2.0 in /usr/local/lib/python3.10/dist-packages (from aiohttp<4.0.0,>=3.8.6->llama-index-core<0.13.0,>=0.12.9->llama-index) (0.2.1)\n",
            "Requirement already satisfied: yarl<2.0,>=1.17.0 in /usr/local/lib/python3.10/dist-packages (from aiohttp<4.0.0,>=3.8.6->llama-index-core<0.13.0,>=0.12.9->llama-index) (1.18.3)\n",
            "Requirement already satisfied: soupsieve>1.2 in /usr/local/lib/python3.10/dist-packages (from beautifulsoup4<5.0.0,>=4.12.3->llama-index-readers-file<0.5.0,>=0.4.0->llama-index) (2.6)\n",
            "Requirement already satisfied: certifi<2025.0.0,>=2024.7.4 in /usr/local/lib/python3.10/dist-packages (from llama-cloud>=0.1.5->llama-index-indices-managed-llama-cloud>=0.4.0->llama-index) (2024.12.14)\n",
            "Requirement already satisfied: anyio in /usr/local/lib/python3.10/dist-packages (from httpx->llama-index-core<0.13.0,>=0.12.9->llama-index) (3.7.1)\n",
            "Requirement already satisfied: httpcore==1.* in /usr/local/lib/python3.10/dist-packages (from httpx->llama-index-core<0.13.0,>=0.12.9->llama-index) (1.0.7)\n",
            "Requirement already satisfied: idna in /usr/local/lib/python3.10/dist-packages (from httpx->llama-index-core<0.13.0,>=0.12.9->llama-index) (3.10)\n",
            "Requirement already satisfied: h11<0.15,>=0.13 in /usr/local/lib/python3.10/dist-packages (from httpcore==1.*->httpx->llama-index-core<0.13.0,>=0.12.9->llama-index) (0.14.0)\n",
            "Requirement already satisfied: distro<2,>=1.7.0 in /usr/local/lib/python3.10/dist-packages (from openai>=1.14.0->llama-index-agent-openai<0.5.0,>=0.4.0->llama-index) (1.9.0)\n",
            "Requirement already satisfied: jiter<1,>=0.4.0 in /usr/local/lib/python3.10/dist-packages (from openai>=1.14.0->llama-index-agent-openai<0.5.0,>=0.4.0->llama-index) (0.8.2)\n",
            "Requirement already satisfied: sniffio in /usr/local/lib/python3.10/dist-packages (from openai>=1.14.0->llama-index-agent-openai<0.5.0,>=0.4.0->llama-index) (1.3.1)\n",
            "Requirement already satisfied: annotated-types>=0.6.0 in /usr/local/lib/python3.10/dist-packages (from pydantic>=2.8.0->llama-index-core<0.13.0,>=0.12.9->llama-index) (0.7.0)\n",
            "Requirement already satisfied: pydantic-core==2.27.1 in /usr/local/lib/python3.10/dist-packages (from pydantic>=2.8.0->llama-index-core<0.13.0,>=0.12.9->llama-index) (2.27.1)\n",
            "Requirement already satisfied: charset-normalizer<4,>=2 in /usr/local/lib/python3.10/dist-packages (from requests>=2.31.0->llama-index-core<0.13.0,>=0.12.9->llama-index) (3.4.0)\n",
            "Requirement already satisfied: urllib3<3,>=1.21.1 in /usr/local/lib/python3.10/dist-packages (from requests>=2.31.0->llama-index-core<0.13.0,>=0.12.9->llama-index) (2.2.3)\n",
            "Requirement already satisfied: greenlet!=0.4.17 in /usr/local/lib/python3.10/dist-packages (from SQLAlchemy>=1.4.49->SQLAlchemy[asyncio]>=1.4.49->llama-index-core<0.13.0,>=0.12.9->llama-index) (3.1.1)\n",
            "Requirement already satisfied: mypy-extensions>=0.3.0 in /usr/local/lib/python3.10/dist-packages (from typing-inspect>=0.8.0->llama-index-core<0.13.0,>=0.12.9->llama-index) (1.0.0)\n",
            "Requirement already satisfied: marshmallow<4.0.0,>=3.18.0 in /usr/local/lib/python3.10/dist-packages (from dataclasses-json->llama-index-core<0.13.0,>=0.12.9->llama-index) (3.23.3)\n",
            "Requirement already satisfied: python-dateutil>=2.8.2 in /usr/local/lib/python3.10/dist-packages (from pandas->llama-index-readers-file<0.5.0,>=0.4.0->llama-index) (2.8.2)\n",
            "Requirement already satisfied: pytz>=2020.1 in /usr/local/lib/python3.10/dist-packages (from pandas->llama-index-readers-file<0.5.0,>=0.4.0->llama-index) (2024.2)\n",
            "Requirement already satisfied: tzdata>=2022.7 in /usr/local/lib/python3.10/dist-packages (from pandas->llama-index-readers-file<0.5.0,>=0.4.0->llama-index) (2024.2)\n",
            "Requirement already satisfied: exceptiongroup in /usr/local/lib/python3.10/dist-packages (from anyio->httpx->llama-index-core<0.13.0,>=0.12.9->llama-index) (1.2.2)\n",
            "Requirement already satisfied: packaging>=17.0 in /usr/local/lib/python3.10/dist-packages (from marshmallow<4.0.0,>=3.18.0->dataclasses-json->llama-index-core<0.13.0,>=0.12.9->llama-index) (24.2)\n",
            "Requirement already satisfied: six>=1.5 in /usr/local/lib/python3.10/dist-packages (from python-dateutil>=2.8.2->pandas->llama-index-readers-file<0.5.0,>=0.4.0->llama-index) (1.17.0)\n",
            "Requirement already satisfied: pyvis in /usr/local/lib/python3.10/dist-packages (0.3.2)\n",
            "Requirement already satisfied: ipython>=5.3.0 in /usr/local/lib/python3.10/dist-packages (from pyvis) (7.34.0)\n",
            "Requirement already satisfied: jinja2>=2.9.6 in /usr/local/lib/python3.10/dist-packages (from pyvis) (3.1.4)\n",
            "Requirement already satisfied: jsonpickle>=1.4.1 in /usr/local/lib/python3.10/dist-packages (from pyvis) (4.0.1)\n",
            "Requirement already satisfied: networkx>=1.11 in /usr/local/lib/python3.10/dist-packages (from pyvis) (3.4.2)\n",
            "Requirement already satisfied: setuptools>=18.5 in /usr/local/lib/python3.10/dist-packages (from ipython>=5.3.0->pyvis) (75.1.0)\n",
            "Requirement already satisfied: jedi>=0.16 in /usr/local/lib/python3.10/dist-packages (from ipython>=5.3.0->pyvis) (0.19.2)\n",
            "Requirement already satisfied: decorator in /usr/local/lib/python3.10/dist-packages (from ipython>=5.3.0->pyvis) (4.4.2)\n",
            "Requirement already satisfied: pickleshare in /usr/local/lib/python3.10/dist-packages (from ipython>=5.3.0->pyvis) (0.7.5)\n",
            "Requirement already satisfied: traitlets>=4.2 in /usr/local/lib/python3.10/dist-packages (from ipython>=5.3.0->pyvis) (5.7.1)\n",
            "Requirement already satisfied: prompt-toolkit!=3.0.0,!=3.0.1,<3.1.0,>=2.0.0 in /usr/local/lib/python3.10/dist-packages (from ipython>=5.3.0->pyvis) (3.0.48)\n",
            "Requirement already satisfied: pygments in /usr/local/lib/python3.10/dist-packages (from ipython>=5.3.0->pyvis) (2.18.0)\n",
            "Requirement already satisfied: backcall in /usr/local/lib/python3.10/dist-packages (from ipython>=5.3.0->pyvis) (0.2.0)\n",
            "Requirement already satisfied: matplotlib-inline in /usr/local/lib/python3.10/dist-packages (from ipython>=5.3.0->pyvis) (0.1.7)\n",
            "Requirement already satisfied: pexpect>4.3 in /usr/local/lib/python3.10/dist-packages (from ipython>=5.3.0->pyvis) (4.9.0)\n",
            "Requirement already satisfied: MarkupSafe>=2.0 in /usr/local/lib/python3.10/dist-packages (from jinja2>=2.9.6->pyvis) (3.0.2)\n",
            "Requirement already satisfied: parso<0.9.0,>=0.8.4 in /usr/local/lib/python3.10/dist-packages (from jedi>=0.16->ipython>=5.3.0->pyvis) (0.8.4)\n",
            "Requirement already satisfied: ptyprocess>=0.5 in /usr/local/lib/python3.10/dist-packages (from pexpect>4.3->ipython>=5.3.0->pyvis) (0.7.0)\n",
            "Requirement already satisfied: wcwidth in /usr/local/lib/python3.10/dist-packages (from prompt-toolkit!=3.0.0,!=3.0.1,<3.1.0,>=2.0.0->ipython>=5.3.0->pyvis) (0.2.13)\n",
            "Requirement already satisfied: llama-index-embeddings-huggingface in /usr/local/lib/python3.10/dist-packages (0.4.0)\n",
            "Requirement already satisfied: huggingface-hub>=0.19.0 in /usr/local/lib/python3.10/dist-packages (from huggingface-hub[inference]>=0.19.0->llama-index-embeddings-huggingface) (0.27.0)\n",
            "Requirement already satisfied: llama-index-core<0.13.0,>=0.12.0 in /usr/local/lib/python3.10/dist-packages (from llama-index-embeddings-huggingface) (0.12.9)\n",
            "Requirement already satisfied: sentence-transformers>=2.6.1 in /usr/local/lib/python3.10/dist-packages (from llama-index-embeddings-huggingface) (3.3.1)\n",
            "Requirement already satisfied: filelock in /usr/local/lib/python3.10/dist-packages (from huggingface-hub>=0.19.0->huggingface-hub[inference]>=0.19.0->llama-index-embeddings-huggingface) (3.16.1)\n",
            "Requirement already satisfied: fsspec>=2023.5.0 in /usr/local/lib/python3.10/dist-packages (from huggingface-hub>=0.19.0->huggingface-hub[inference]>=0.19.0->llama-index-embeddings-huggingface) (2024.10.0)\n",
            "Requirement already satisfied: packaging>=20.9 in /usr/local/lib/python3.10/dist-packages (from huggingface-hub>=0.19.0->huggingface-hub[inference]>=0.19.0->llama-index-embeddings-huggingface) (24.2)\n",
            "Requirement already satisfied: pyyaml>=5.1 in /usr/local/lib/python3.10/dist-packages (from huggingface-hub>=0.19.0->huggingface-hub[inference]>=0.19.0->llama-index-embeddings-huggingface) (6.0.2)\n",
            "Requirement already satisfied: requests in /usr/local/lib/python3.10/dist-packages (from huggingface-hub>=0.19.0->huggingface-hub[inference]>=0.19.0->llama-index-embeddings-huggingface) (2.32.3)\n",
            "Requirement already satisfied: tqdm>=4.42.1 in /usr/local/lib/python3.10/dist-packages (from huggingface-hub>=0.19.0->huggingface-hub[inference]>=0.19.0->llama-index-embeddings-huggingface) (4.67.1)\n",
            "Requirement already satisfied: typing-extensions>=3.7.4.3 in /usr/local/lib/python3.10/dist-packages (from huggingface-hub>=0.19.0->huggingface-hub[inference]>=0.19.0->llama-index-embeddings-huggingface) (4.12.2)\n",
            "Requirement already satisfied: aiohttp in /usr/local/lib/python3.10/dist-packages (from huggingface-hub[inference]>=0.19.0->llama-index-embeddings-huggingface) (3.11.10)\n",
            "Requirement already satisfied: SQLAlchemy>=1.4.49 in /usr/local/lib/python3.10/dist-packages (from SQLAlchemy[asyncio]>=1.4.49->llama-index-core<0.13.0,>=0.12.0->llama-index-embeddings-huggingface) (2.0.36)\n",
            "Requirement already satisfied: dataclasses-json in /usr/local/lib/python3.10/dist-packages (from llama-index-core<0.13.0,>=0.12.0->llama-index-embeddings-huggingface) (0.6.7)\n",
            "Requirement already satisfied: deprecated>=1.2.9.3 in /usr/local/lib/python3.10/dist-packages (from llama-index-core<0.13.0,>=0.12.0->llama-index-embeddings-huggingface) (1.2.15)\n",
            "Requirement already satisfied: dirtyjson<2.0.0,>=1.0.8 in /usr/local/lib/python3.10/dist-packages (from llama-index-core<0.13.0,>=0.12.0->llama-index-embeddings-huggingface) (1.0.8)\n",
            "Requirement already satisfied: filetype<2.0.0,>=1.2.0 in /usr/local/lib/python3.10/dist-packages (from llama-index-core<0.13.0,>=0.12.0->llama-index-embeddings-huggingface) (1.2.0)\n",
            "Requirement already satisfied: httpx in /usr/local/lib/python3.10/dist-packages (from llama-index-core<0.13.0,>=0.12.0->llama-index-embeddings-huggingface) (0.28.1)\n",
            "Requirement already satisfied: nest-asyncio<2.0.0,>=1.5.8 in /usr/local/lib/python3.10/dist-packages (from llama-index-core<0.13.0,>=0.12.0->llama-index-embeddings-huggingface) (1.6.0)\n",
            "Requirement already satisfied: networkx>=3.0 in /usr/local/lib/python3.10/dist-packages (from llama-index-core<0.13.0,>=0.12.0->llama-index-embeddings-huggingface) (3.4.2)\n",
            "Requirement already satisfied: nltk>3.8.1 in /usr/local/lib/python3.10/dist-packages (from llama-index-core<0.13.0,>=0.12.0->llama-index-embeddings-huggingface) (3.9.1)\n",
            "Requirement already satisfied: numpy in /usr/local/lib/python3.10/dist-packages (from llama-index-core<0.13.0,>=0.12.0->llama-index-embeddings-huggingface) (1.26.4)\n",
            "Requirement already satisfied: pillow>=9.0.0 in /usr/local/lib/python3.10/dist-packages (from llama-index-core<0.13.0,>=0.12.0->llama-index-embeddings-huggingface) (11.0.0)\n",
            "Requirement already satisfied: pydantic>=2.8.0 in /usr/local/lib/python3.10/dist-packages (from llama-index-core<0.13.0,>=0.12.0->llama-index-embeddings-huggingface) (2.10.3)\n",
            "Requirement already satisfied: tenacity!=8.4.0,<10.0.0,>=8.2.0 in /usr/local/lib/python3.10/dist-packages (from llama-index-core<0.13.0,>=0.12.0->llama-index-embeddings-huggingface) (9.0.0)\n",
            "Requirement already satisfied: tiktoken>=0.3.3 in /usr/local/lib/python3.10/dist-packages (from llama-index-core<0.13.0,>=0.12.0->llama-index-embeddings-huggingface) (0.8.0)\n",
            "Requirement already satisfied: typing-inspect>=0.8.0 in /usr/local/lib/python3.10/dist-packages (from llama-index-core<0.13.0,>=0.12.0->llama-index-embeddings-huggingface) (0.9.0)\n",
            "Requirement already satisfied: wrapt in /usr/local/lib/python3.10/dist-packages (from llama-index-core<0.13.0,>=0.12.0->llama-index-embeddings-huggingface) (1.17.0)\n",
            "Requirement already satisfied: transformers<5.0.0,>=4.41.0 in /usr/local/lib/python3.10/dist-packages (from sentence-transformers>=2.6.1->llama-index-embeddings-huggingface) (4.47.1)\n",
            "Requirement already satisfied: torch>=1.11.0 in /usr/local/lib/python3.10/dist-packages (from sentence-transformers>=2.6.1->llama-index-embeddings-huggingface) (2.5.1+cu121)\n",
            "Requirement already satisfied: scikit-learn in /usr/local/lib/python3.10/dist-packages (from sentence-transformers>=2.6.1->llama-index-embeddings-huggingface) (1.6.0)\n",
            "Requirement already satisfied: scipy in /usr/local/lib/python3.10/dist-packages (from sentence-transformers>=2.6.1->llama-index-embeddings-huggingface) (1.13.1)\n",
            "Requirement already satisfied: aiohappyeyeballs>=2.3.0 in /usr/local/lib/python3.10/dist-packages (from aiohttp->huggingface-hub[inference]>=0.19.0->llama-index-embeddings-huggingface) (2.4.4)\n",
            "Requirement already satisfied: aiosignal>=1.1.2 in /usr/local/lib/python3.10/dist-packages (from aiohttp->huggingface-hub[inference]>=0.19.0->llama-index-embeddings-huggingface) (1.3.2)\n",
            "Requirement already satisfied: async-timeout<6.0,>=4.0 in /usr/local/lib/python3.10/dist-packages (from aiohttp->huggingface-hub[inference]>=0.19.0->llama-index-embeddings-huggingface) (4.0.3)\n",
            "Requirement already satisfied: attrs>=17.3.0 in /usr/local/lib/python3.10/dist-packages (from aiohttp->huggingface-hub[inference]>=0.19.0->llama-index-embeddings-huggingface) (24.3.0)\n",
            "Requirement already satisfied: frozenlist>=1.1.1 in /usr/local/lib/python3.10/dist-packages (from aiohttp->huggingface-hub[inference]>=0.19.0->llama-index-embeddings-huggingface) (1.5.0)\n",
            "Requirement already satisfied: multidict<7.0,>=4.5 in /usr/local/lib/python3.10/dist-packages (from aiohttp->huggingface-hub[inference]>=0.19.0->llama-index-embeddings-huggingface) (6.1.0)\n",
            "Requirement already satisfied: propcache>=0.2.0 in /usr/local/lib/python3.10/dist-packages (from aiohttp->huggingface-hub[inference]>=0.19.0->llama-index-embeddings-huggingface) (0.2.1)\n",
            "Requirement already satisfied: yarl<2.0,>=1.17.0 in /usr/local/lib/python3.10/dist-packages (from aiohttp->huggingface-hub[inference]>=0.19.0->llama-index-embeddings-huggingface) (1.18.3)\n",
            "Requirement already satisfied: click in /usr/local/lib/python3.10/dist-packages (from nltk>3.8.1->llama-index-core<0.13.0,>=0.12.0->llama-index-embeddings-huggingface) (8.1.7)\n",
            "Requirement already satisfied: joblib in /usr/local/lib/python3.10/dist-packages (from nltk>3.8.1->llama-index-core<0.13.0,>=0.12.0->llama-index-embeddings-huggingface) (1.4.2)\n",
            "Requirement already satisfied: regex>=2021.8.3 in /usr/local/lib/python3.10/dist-packages (from nltk>3.8.1->llama-index-core<0.13.0,>=0.12.0->llama-index-embeddings-huggingface) (2024.11.6)\n",
            "Requirement already satisfied: annotated-types>=0.6.0 in /usr/local/lib/python3.10/dist-packages (from pydantic>=2.8.0->llama-index-core<0.13.0,>=0.12.0->llama-index-embeddings-huggingface) (0.7.0)\n",
            "Requirement already satisfied: pydantic-core==2.27.1 in /usr/local/lib/python3.10/dist-packages (from pydantic>=2.8.0->llama-index-core<0.13.0,>=0.12.0->llama-index-embeddings-huggingface) (2.27.1)\n",
            "Requirement already satisfied: charset-normalizer<4,>=2 in /usr/local/lib/python3.10/dist-packages (from requests->huggingface-hub>=0.19.0->huggingface-hub[inference]>=0.19.0->llama-index-embeddings-huggingface) (3.4.0)\n",
            "Requirement already satisfied: idna<4,>=2.5 in /usr/local/lib/python3.10/dist-packages (from requests->huggingface-hub>=0.19.0->huggingface-hub[inference]>=0.19.0->llama-index-embeddings-huggingface) (3.10)\n",
            "Requirement already satisfied: urllib3<3,>=1.21.1 in /usr/local/lib/python3.10/dist-packages (from requests->huggingface-hub>=0.19.0->huggingface-hub[inference]>=0.19.0->llama-index-embeddings-huggingface) (2.2.3)\n",
            "Requirement already satisfied: certifi>=2017.4.17 in /usr/local/lib/python3.10/dist-packages (from requests->huggingface-hub>=0.19.0->huggingface-hub[inference]>=0.19.0->llama-index-embeddings-huggingface) (2024.12.14)\n",
            "Requirement already satisfied: greenlet!=0.4.17 in /usr/local/lib/python3.10/dist-packages (from SQLAlchemy>=1.4.49->SQLAlchemy[asyncio]>=1.4.49->llama-index-core<0.13.0,>=0.12.0->llama-index-embeddings-huggingface) (3.1.1)\n",
            "Requirement already satisfied: jinja2 in /usr/local/lib/python3.10/dist-packages (from torch>=1.11.0->sentence-transformers>=2.6.1->llama-index-embeddings-huggingface) (3.1.4)\n",
            "Requirement already satisfied: sympy==1.13.1 in /usr/local/lib/python3.10/dist-packages (from torch>=1.11.0->sentence-transformers>=2.6.1->llama-index-embeddings-huggingface) (1.13.1)\n",
            "Requirement already satisfied: mpmath<1.4,>=1.1.0 in /usr/local/lib/python3.10/dist-packages (from sympy==1.13.1->torch>=1.11.0->sentence-transformers>=2.6.1->llama-index-embeddings-huggingface) (1.3.0)\n",
            "Requirement already satisfied: tokenizers<0.22,>=0.21 in /usr/local/lib/python3.10/dist-packages (from transformers<5.0.0,>=4.41.0->sentence-transformers>=2.6.1->llama-index-embeddings-huggingface) (0.21.0)\n",
            "Requirement already satisfied: safetensors>=0.4.1 in /usr/local/lib/python3.10/dist-packages (from transformers<5.0.0,>=4.41.0->sentence-transformers>=2.6.1->llama-index-embeddings-huggingface) (0.4.5)\n",
            "Requirement already satisfied: mypy-extensions>=0.3.0 in /usr/local/lib/python3.10/dist-packages (from typing-inspect>=0.8.0->llama-index-core<0.13.0,>=0.12.0->llama-index-embeddings-huggingface) (1.0.0)\n",
            "Requirement already satisfied: marshmallow<4.0.0,>=3.18.0 in /usr/local/lib/python3.10/dist-packages (from dataclasses-json->llama-index-core<0.13.0,>=0.12.0->llama-index-embeddings-huggingface) (3.23.3)\n",
            "Requirement already satisfied: anyio in /usr/local/lib/python3.10/dist-packages (from httpx->llama-index-core<0.13.0,>=0.12.0->llama-index-embeddings-huggingface) (3.7.1)\n",
            "Requirement already satisfied: httpcore==1.* in /usr/local/lib/python3.10/dist-packages (from httpx->llama-index-core<0.13.0,>=0.12.0->llama-index-embeddings-huggingface) (1.0.7)\n",
            "Requirement already satisfied: h11<0.15,>=0.13 in /usr/local/lib/python3.10/dist-packages (from httpcore==1.*->httpx->llama-index-core<0.13.0,>=0.12.0->llama-index-embeddings-huggingface) (0.14.0)\n",
            "Requirement already satisfied: threadpoolctl>=3.1.0 in /usr/local/lib/python3.10/dist-packages (from scikit-learn->sentence-transformers>=2.6.1->llama-index-embeddings-huggingface) (3.5.0)\n",
            "Requirement already satisfied: sniffio>=1.1 in /usr/local/lib/python3.10/dist-packages (from anyio->httpx->llama-index-core<0.13.0,>=0.12.0->llama-index-embeddings-huggingface) (1.3.1)\n",
            "Requirement already satisfied: exceptiongroup in /usr/local/lib/python3.10/dist-packages (from anyio->httpx->llama-index-core<0.13.0,>=0.12.0->llama-index-embeddings-huggingface) (1.2.2)\n",
            "Requirement already satisfied: MarkupSafe>=2.0 in /usr/local/lib/python3.10/dist-packages (from jinja2->torch>=1.11.0->sentence-transformers>=2.6.1->llama-index-embeddings-huggingface) (3.0.2)\n"
          ]
        }
      ],
      "source": [
        "%pip install llama-index-llms-groq\n",
        "%pip install llama-index\n",
        "%pip install pyvis\n",
        "%pip install llama-index-embeddings-huggingface"
      ]
    },
    {
      "cell_type": "code",
      "execution_count": 148,
      "metadata": {
        "colab": {
          "base_uri": "https://localhost:8080/"
        },
        "id": "dx141YUXvZfT",
        "outputId": "6b316c81-41cf-48a3-ef3b-1fb4d55e11d2"
      },
      "outputs": [
        {
          "output_type": "stream",
          "name": "stdout",
          "text": [
            "Requirement already satisfied: arize-phoenix[evals] in /usr/local/lib/python3.10/dist-packages (7.5.1)\n",
            "Requirement already satisfied: aioitertools in /usr/local/lib/python3.10/dist-packages (from arize-phoenix[evals]) (0.12.0)\n",
            "Requirement already satisfied: aiosqlite in /usr/local/lib/python3.10/dist-packages (from arize-phoenix[evals]) (0.20.0)\n",
            "Requirement already satisfied: alembic<2,>=1.3.0 in /usr/local/lib/python3.10/dist-packages (from arize-phoenix[evals]) (1.14.0)\n",
            "Requirement already satisfied: arize-phoenix-evals>=0.13.1 in /usr/local/lib/python3.10/dist-packages (from arize-phoenix[evals]) (0.18.0)\n",
            "Requirement already satisfied: arize-phoenix-otel>=0.5.1 in /usr/local/lib/python3.10/dist-packages (from arize-phoenix[evals]) (0.6.1)\n",
            "Requirement already satisfied: authlib in /usr/local/lib/python3.10/dist-packages (from arize-phoenix[evals]) (1.4.0)\n",
            "Requirement already satisfied: cachetools in /usr/local/lib/python3.10/dist-packages (from arize-phoenix[evals]) (5.5.0)\n",
            "Requirement already satisfied: fastapi in /usr/local/lib/python3.10/dist-packages (from arize-phoenix[evals]) (0.115.6)\n",
            "Requirement already satisfied: grpc-interceptor in /usr/local/lib/python3.10/dist-packages (from arize-phoenix[evals]) (0.15.4)\n",
            "Requirement already satisfied: grpcio in /usr/local/lib/python3.10/dist-packages (from arize-phoenix[evals]) (1.68.1)\n",
            "Requirement already satisfied: httpx in /usr/local/lib/python3.10/dist-packages (from arize-phoenix[evals]) (0.28.1)\n",
            "Requirement already satisfied: jinja2 in /usr/local/lib/python3.10/dist-packages (from arize-phoenix[evals]) (3.1.4)\n",
            "Requirement already satisfied: numpy!=2.0.0 in /usr/local/lib/python3.10/dist-packages (from arize-phoenix[evals]) (1.26.4)\n",
            "Requirement already satisfied: openinference-instrumentation>=0.1.12 in /usr/local/lib/python3.10/dist-packages (from arize-phoenix[evals]) (0.1.20)\n",
            "Requirement already satisfied: openinference-semantic-conventions>=0.1.12 in /usr/local/lib/python3.10/dist-packages (from arize-phoenix[evals]) (0.1.12)\n",
            "Requirement already satisfied: opentelemetry-exporter-otlp in /usr/local/lib/python3.10/dist-packages (from arize-phoenix[evals]) (1.29.0)\n",
            "Requirement already satisfied: opentelemetry-proto>=1.12.0 in /usr/local/lib/python3.10/dist-packages (from arize-phoenix[evals]) (1.29.0)\n",
            "Requirement already satisfied: opentelemetry-sdk in /usr/local/lib/python3.10/dist-packages (from arize-phoenix[evals]) (1.29.0)\n",
            "Requirement already satisfied: opentelemetry-semantic-conventions in /usr/local/lib/python3.10/dist-packages (from arize-phoenix[evals]) (0.50b0)\n",
            "Requirement already satisfied: pandas>=1.0 in /usr/local/lib/python3.10/dist-packages (from arize-phoenix[evals]) (2.2.2)\n",
            "Requirement already satisfied: protobuf<6.0,>=3.20.2 in /usr/local/lib/python3.10/dist-packages (from arize-phoenix[evals]) (5.29.2)\n",
            "Requirement already satisfied: psutil in /usr/local/lib/python3.10/dist-packages (from arize-phoenix[evals]) (5.9.5)\n",
            "Requirement already satisfied: pyarrow in /usr/local/lib/python3.10/dist-packages (from arize-phoenix[evals]) (17.0.0)\n",
            "Requirement already satisfied: pydantic!=2.0.*,<3,>=1.0 in /usr/local/lib/python3.10/dist-packages (from arize-phoenix[evals]) (2.10.3)\n",
            "Requirement already satisfied: python-multipart in /usr/local/lib/python3.10/dist-packages (from arize-phoenix[evals]) (0.0.20)\n",
            "Requirement already satisfied: scikit-learn in /usr/local/lib/python3.10/dist-packages (from arize-phoenix[evals]) (1.6.0)\n",
            "Requirement already satisfied: scipy in /usr/local/lib/python3.10/dist-packages (from arize-phoenix[evals]) (1.13.1)\n",
            "Requirement already satisfied: sqlalchemy<3,>=2.0.4 in /usr/local/lib/python3.10/dist-packages (from sqlalchemy[asyncio]<3,>=2.0.4->arize-phoenix[evals]) (2.0.36)\n",
            "Requirement already satisfied: sqlean-py>=3.45.1 in /usr/local/lib/python3.10/dist-packages (from arize-phoenix[evals]) (3.47.0)\n",
            "Requirement already satisfied: starlette in /usr/local/lib/python3.10/dist-packages (from arize-phoenix[evals]) (0.41.3)\n",
            "Requirement already satisfied: strawberry-graphql==0.253.1 in /usr/local/lib/python3.10/dist-packages (from arize-phoenix[evals]) (0.253.1)\n",
            "Requirement already satisfied: tqdm in /usr/local/lib/python3.10/dist-packages (from arize-phoenix[evals]) (4.67.1)\n",
            "Requirement already satisfied: typing-extensions>=4.6 in /usr/local/lib/python3.10/dist-packages (from arize-phoenix[evals]) (4.12.2)\n",
            "Requirement already satisfied: uvicorn in /usr/local/lib/python3.10/dist-packages (from arize-phoenix[evals]) (0.34.0)\n",
            "Requirement already satisfied: websockets in /usr/local/lib/python3.10/dist-packages (from arize-phoenix[evals]) (14.1)\n",
            "Requirement already satisfied: wrapt>=1.17 in /usr/local/lib/python3.10/dist-packages (from arize-phoenix[evals]) (1.17.0)\n",
            "Requirement already satisfied: graphql-core<3.4.0,>=3.2.0 in /usr/local/lib/python3.10/dist-packages (from strawberry-graphql==0.253.1->arize-phoenix[evals]) (3.2.5)\n",
            "Requirement already satisfied: python-dateutil<3.0.0,>=2.7.0 in /usr/local/lib/python3.10/dist-packages (from strawberry-graphql==0.253.1->arize-phoenix[evals]) (2.8.2)\n",
            "Requirement already satisfied: Mako in /usr/local/lib/python3.10/dist-packages (from alembic<2,>=1.3.0->arize-phoenix[evals]) (1.3.8)\n",
            "Requirement already satisfied: opentelemetry-api in /usr/local/lib/python3.10/dist-packages (from openinference-instrumentation>=0.1.12->arize-phoenix[evals]) (1.29.0)\n",
            "Requirement already satisfied: pytz>=2020.1 in /usr/local/lib/python3.10/dist-packages (from pandas>=1.0->arize-phoenix[evals]) (2024.2)\n",
            "Requirement already satisfied: tzdata>=2022.7 in /usr/local/lib/python3.10/dist-packages (from pandas>=1.0->arize-phoenix[evals]) (2024.2)\n",
            "Requirement already satisfied: annotated-types>=0.6.0 in /usr/local/lib/python3.10/dist-packages (from pydantic!=2.0.*,<3,>=1.0->arize-phoenix[evals]) (0.7.0)\n",
            "Requirement already satisfied: pydantic-core==2.27.1 in /usr/local/lib/python3.10/dist-packages (from pydantic!=2.0.*,<3,>=1.0->arize-phoenix[evals]) (2.27.1)\n",
            "Requirement already satisfied: greenlet!=0.4.17 in /usr/local/lib/python3.10/dist-packages (from sqlalchemy<3,>=2.0.4->sqlalchemy[asyncio]<3,>=2.0.4->arize-phoenix[evals]) (3.1.1)\n",
            "Requirement already satisfied: cryptography in /usr/local/lib/python3.10/dist-packages (from authlib->arize-phoenix[evals]) (43.0.3)\n",
            "Requirement already satisfied: anyio<5,>=3.4.0 in /usr/local/lib/python3.10/dist-packages (from starlette->arize-phoenix[evals]) (3.7.1)\n",
            "Requirement already satisfied: certifi in /usr/local/lib/python3.10/dist-packages (from httpx->arize-phoenix[evals]) (2024.12.14)\n",
            "Requirement already satisfied: httpcore==1.* in /usr/local/lib/python3.10/dist-packages (from httpx->arize-phoenix[evals]) (1.0.7)\n",
            "Requirement already satisfied: idna in /usr/local/lib/python3.10/dist-packages (from httpx->arize-phoenix[evals]) (3.10)\n",
            "Requirement already satisfied: h11<0.15,>=0.13 in /usr/local/lib/python3.10/dist-packages (from httpcore==1.*->httpx->arize-phoenix[evals]) (0.14.0)\n",
            "Requirement already satisfied: MarkupSafe>=2.0 in /usr/local/lib/python3.10/dist-packages (from jinja2->arize-phoenix[evals]) (3.0.2)\n",
            "Requirement already satisfied: opentelemetry-exporter-otlp-proto-grpc==1.29.0 in /usr/local/lib/python3.10/dist-packages (from opentelemetry-exporter-otlp->arize-phoenix[evals]) (1.29.0)\n",
            "Requirement already satisfied: opentelemetry-exporter-otlp-proto-http==1.29.0 in /usr/local/lib/python3.10/dist-packages (from opentelemetry-exporter-otlp->arize-phoenix[evals]) (1.29.0)\n",
            "Requirement already satisfied: deprecated>=1.2.6 in /usr/local/lib/python3.10/dist-packages (from opentelemetry-exporter-otlp-proto-grpc==1.29.0->opentelemetry-exporter-otlp->arize-phoenix[evals]) (1.2.15)\n",
            "Requirement already satisfied: googleapis-common-protos~=1.52 in /usr/local/lib/python3.10/dist-packages (from opentelemetry-exporter-otlp-proto-grpc==1.29.0->opentelemetry-exporter-otlp->arize-phoenix[evals]) (1.66.0)\n",
            "Requirement already satisfied: opentelemetry-exporter-otlp-proto-common==1.29.0 in /usr/local/lib/python3.10/dist-packages (from opentelemetry-exporter-otlp-proto-grpc==1.29.0->opentelemetry-exporter-otlp->arize-phoenix[evals]) (1.29.0)\n",
            "Requirement already satisfied: requests~=2.7 in /usr/local/lib/python3.10/dist-packages (from opentelemetry-exporter-otlp-proto-http==1.29.0->opentelemetry-exporter-otlp->arize-phoenix[evals]) (2.32.3)\n",
            "Requirement already satisfied: importlib-metadata<=8.5.0,>=6.0 in /usr/local/lib/python3.10/dist-packages (from opentelemetry-api->openinference-instrumentation>=0.1.12->arize-phoenix[evals]) (8.5.0)\n",
            "Requirement already satisfied: joblib>=1.2.0 in /usr/local/lib/python3.10/dist-packages (from scikit-learn->arize-phoenix[evals]) (1.4.2)\n",
            "Requirement already satisfied: threadpoolctl>=3.1.0 in /usr/local/lib/python3.10/dist-packages (from scikit-learn->arize-phoenix[evals]) (3.5.0)\n",
            "Requirement already satisfied: click>=7.0 in /usr/local/lib/python3.10/dist-packages (from uvicorn->arize-phoenix[evals]) (8.1.7)\n",
            "Requirement already satisfied: sniffio>=1.1 in /usr/local/lib/python3.10/dist-packages (from anyio<5,>=3.4.0->starlette->arize-phoenix[evals]) (1.3.1)\n",
            "Requirement already satisfied: exceptiongroup in /usr/local/lib/python3.10/dist-packages (from anyio<5,>=3.4.0->starlette->arize-phoenix[evals]) (1.2.2)\n",
            "Requirement already satisfied: six>=1.5 in /usr/local/lib/python3.10/dist-packages (from python-dateutil<3.0.0,>=2.7.0->strawberry-graphql==0.253.1->arize-phoenix[evals]) (1.17.0)\n",
            "Requirement already satisfied: cffi>=1.12 in /usr/local/lib/python3.10/dist-packages (from cryptography->authlib->arize-phoenix[evals]) (1.17.1)\n",
            "Requirement already satisfied: pycparser in /usr/local/lib/python3.10/dist-packages (from cffi>=1.12->cryptography->authlib->arize-phoenix[evals]) (2.22)\n",
            "Requirement already satisfied: zipp>=3.20 in /usr/local/lib/python3.10/dist-packages (from importlib-metadata<=8.5.0,>=6.0->opentelemetry-api->openinference-instrumentation>=0.1.12->arize-phoenix[evals]) (3.21.0)\n",
            "Requirement already satisfied: charset-normalizer<4,>=2 in /usr/local/lib/python3.10/dist-packages (from requests~=2.7->opentelemetry-exporter-otlp-proto-http==1.29.0->opentelemetry-exporter-otlp->arize-phoenix[evals]) (3.4.0)\n",
            "Requirement already satisfied: urllib3<3,>=1.21.1 in /usr/local/lib/python3.10/dist-packages (from requests~=2.7->opentelemetry-exporter-otlp-proto-http==1.29.0->opentelemetry-exporter-otlp->arize-phoenix[evals]) (2.2.3)\n"
          ]
        }
      ],
      "source": [
        "\n",
        "%pip install arize-phoenix[evals]"
      ]
    },
    {
      "cell_type": "code",
      "execution_count": 149,
      "metadata": {
        "colab": {
          "base_uri": "https://localhost:8080/"
        },
        "id": "AZRv3UHUvZfV",
        "outputId": "ed30244f-64c1-4d34-8daf-4f6119c16721"
      },
      "outputs": [
        {
          "output_type": "stream",
          "name": "stdout",
          "text": [
            "Requirement already satisfied: llama-index-callbacks-arize-phoenix in /usr/local/lib/python3.10/dist-packages (0.3.0)\n",
            "Requirement already satisfied: arize-phoenix>=3.0.3 in /usr/local/lib/python3.10/dist-packages (from llama-index-callbacks-arize-phoenix) (7.5.1)\n",
            "Requirement already satisfied: llama-index-core<0.13.0,>=0.12.0 in /usr/local/lib/python3.10/dist-packages (from llama-index-callbacks-arize-phoenix) (0.12.9)\n",
            "Requirement already satisfied: openinference-instrumentation-llama-index>=3.0.0 in /usr/local/lib/python3.10/dist-packages (from llama-index-callbacks-arize-phoenix) (3.1.2)\n",
            "Requirement already satisfied: aioitertools in /usr/local/lib/python3.10/dist-packages (from arize-phoenix>=3.0.3->llama-index-callbacks-arize-phoenix) (0.12.0)\n",
            "Requirement already satisfied: aiosqlite in /usr/local/lib/python3.10/dist-packages (from arize-phoenix>=3.0.3->llama-index-callbacks-arize-phoenix) (0.20.0)\n",
            "Requirement already satisfied: alembic<2,>=1.3.0 in /usr/local/lib/python3.10/dist-packages (from arize-phoenix>=3.0.3->llama-index-callbacks-arize-phoenix) (1.14.0)\n",
            "Requirement already satisfied: arize-phoenix-evals>=0.13.1 in /usr/local/lib/python3.10/dist-packages (from arize-phoenix>=3.0.3->llama-index-callbacks-arize-phoenix) (0.18.0)\n",
            "Requirement already satisfied: arize-phoenix-otel>=0.5.1 in /usr/local/lib/python3.10/dist-packages (from arize-phoenix>=3.0.3->llama-index-callbacks-arize-phoenix) (0.6.1)\n",
            "Requirement already satisfied: authlib in /usr/local/lib/python3.10/dist-packages (from arize-phoenix>=3.0.3->llama-index-callbacks-arize-phoenix) (1.4.0)\n",
            "Requirement already satisfied: cachetools in /usr/local/lib/python3.10/dist-packages (from arize-phoenix>=3.0.3->llama-index-callbacks-arize-phoenix) (5.5.0)\n",
            "Requirement already satisfied: fastapi in /usr/local/lib/python3.10/dist-packages (from arize-phoenix>=3.0.3->llama-index-callbacks-arize-phoenix) (0.115.6)\n",
            "Requirement already satisfied: grpc-interceptor in /usr/local/lib/python3.10/dist-packages (from arize-phoenix>=3.0.3->llama-index-callbacks-arize-phoenix) (0.15.4)\n",
            "Requirement already satisfied: grpcio in /usr/local/lib/python3.10/dist-packages (from arize-phoenix>=3.0.3->llama-index-callbacks-arize-phoenix) (1.68.1)\n",
            "Requirement already satisfied: httpx in /usr/local/lib/python3.10/dist-packages (from arize-phoenix>=3.0.3->llama-index-callbacks-arize-phoenix) (0.28.1)\n",
            "Requirement already satisfied: jinja2 in /usr/local/lib/python3.10/dist-packages (from arize-phoenix>=3.0.3->llama-index-callbacks-arize-phoenix) (3.1.4)\n",
            "Requirement already satisfied: numpy!=2.0.0 in /usr/local/lib/python3.10/dist-packages (from arize-phoenix>=3.0.3->llama-index-callbacks-arize-phoenix) (1.26.4)\n",
            "Requirement already satisfied: openinference-instrumentation>=0.1.12 in /usr/local/lib/python3.10/dist-packages (from arize-phoenix>=3.0.3->llama-index-callbacks-arize-phoenix) (0.1.20)\n",
            "Requirement already satisfied: openinference-semantic-conventions>=0.1.12 in /usr/local/lib/python3.10/dist-packages (from arize-phoenix>=3.0.3->llama-index-callbacks-arize-phoenix) (0.1.12)\n",
            "Requirement already satisfied: opentelemetry-exporter-otlp in /usr/local/lib/python3.10/dist-packages (from arize-phoenix>=3.0.3->llama-index-callbacks-arize-phoenix) (1.29.0)\n",
            "Requirement already satisfied: opentelemetry-proto>=1.12.0 in /usr/local/lib/python3.10/dist-packages (from arize-phoenix>=3.0.3->llama-index-callbacks-arize-phoenix) (1.29.0)\n",
            "Requirement already satisfied: opentelemetry-sdk in /usr/local/lib/python3.10/dist-packages (from arize-phoenix>=3.0.3->llama-index-callbacks-arize-phoenix) (1.29.0)\n",
            "Requirement already satisfied: opentelemetry-semantic-conventions in /usr/local/lib/python3.10/dist-packages (from arize-phoenix>=3.0.3->llama-index-callbacks-arize-phoenix) (0.50b0)\n",
            "Requirement already satisfied: pandas>=1.0 in /usr/local/lib/python3.10/dist-packages (from arize-phoenix>=3.0.3->llama-index-callbacks-arize-phoenix) (2.2.2)\n",
            "Requirement already satisfied: protobuf<6.0,>=3.20.2 in /usr/local/lib/python3.10/dist-packages (from arize-phoenix>=3.0.3->llama-index-callbacks-arize-phoenix) (5.29.2)\n",
            "Requirement already satisfied: psutil in /usr/local/lib/python3.10/dist-packages (from arize-phoenix>=3.0.3->llama-index-callbacks-arize-phoenix) (5.9.5)\n",
            "Requirement already satisfied: pyarrow in /usr/local/lib/python3.10/dist-packages (from arize-phoenix>=3.0.3->llama-index-callbacks-arize-phoenix) (17.0.0)\n",
            "Requirement already satisfied: pydantic!=2.0.*,<3,>=1.0 in /usr/local/lib/python3.10/dist-packages (from arize-phoenix>=3.0.3->llama-index-callbacks-arize-phoenix) (2.10.3)\n",
            "Requirement already satisfied: python-multipart in /usr/local/lib/python3.10/dist-packages (from arize-phoenix>=3.0.3->llama-index-callbacks-arize-phoenix) (0.0.20)\n",
            "Requirement already satisfied: scikit-learn in /usr/local/lib/python3.10/dist-packages (from arize-phoenix>=3.0.3->llama-index-callbacks-arize-phoenix) (1.6.0)\n",
            "Requirement already satisfied: scipy in /usr/local/lib/python3.10/dist-packages (from arize-phoenix>=3.0.3->llama-index-callbacks-arize-phoenix) (1.13.1)\n",
            "Requirement already satisfied: sqlalchemy<3,>=2.0.4 in /usr/local/lib/python3.10/dist-packages (from sqlalchemy[asyncio]<3,>=2.0.4->arize-phoenix>=3.0.3->llama-index-callbacks-arize-phoenix) (2.0.36)\n",
            "Requirement already satisfied: sqlean-py>=3.45.1 in /usr/local/lib/python3.10/dist-packages (from arize-phoenix>=3.0.3->llama-index-callbacks-arize-phoenix) (3.47.0)\n",
            "Requirement already satisfied: starlette in /usr/local/lib/python3.10/dist-packages (from arize-phoenix>=3.0.3->llama-index-callbacks-arize-phoenix) (0.41.3)\n",
            "Requirement already satisfied: strawberry-graphql==0.253.1 in /usr/local/lib/python3.10/dist-packages (from arize-phoenix>=3.0.3->llama-index-callbacks-arize-phoenix) (0.253.1)\n",
            "Requirement already satisfied: tqdm in /usr/local/lib/python3.10/dist-packages (from arize-phoenix>=3.0.3->llama-index-callbacks-arize-phoenix) (4.67.1)\n",
            "Requirement already satisfied: typing-extensions>=4.6 in /usr/local/lib/python3.10/dist-packages (from arize-phoenix>=3.0.3->llama-index-callbacks-arize-phoenix) (4.12.2)\n",
            "Requirement already satisfied: uvicorn in /usr/local/lib/python3.10/dist-packages (from arize-phoenix>=3.0.3->llama-index-callbacks-arize-phoenix) (0.34.0)\n",
            "Requirement already satisfied: websockets in /usr/local/lib/python3.10/dist-packages (from arize-phoenix>=3.0.3->llama-index-callbacks-arize-phoenix) (14.1)\n",
            "Requirement already satisfied: wrapt>=1.17 in /usr/local/lib/python3.10/dist-packages (from arize-phoenix>=3.0.3->llama-index-callbacks-arize-phoenix) (1.17.0)\n",
            "Requirement already satisfied: graphql-core<3.4.0,>=3.2.0 in /usr/local/lib/python3.10/dist-packages (from strawberry-graphql==0.253.1->arize-phoenix>=3.0.3->llama-index-callbacks-arize-phoenix) (3.2.5)\n",
            "Requirement already satisfied: python-dateutil<3.0.0,>=2.7.0 in /usr/local/lib/python3.10/dist-packages (from strawberry-graphql==0.253.1->arize-phoenix>=3.0.3->llama-index-callbacks-arize-phoenix) (2.8.2)\n",
            "Requirement already satisfied: PyYAML>=6.0.1 in /usr/local/lib/python3.10/dist-packages (from llama-index-core<0.13.0,>=0.12.0->llama-index-callbacks-arize-phoenix) (6.0.2)\n",
            "Requirement already satisfied: aiohttp<4.0.0,>=3.8.6 in /usr/local/lib/python3.10/dist-packages (from llama-index-core<0.13.0,>=0.12.0->llama-index-callbacks-arize-phoenix) (3.11.10)\n",
            "Requirement already satisfied: dataclasses-json in /usr/local/lib/python3.10/dist-packages (from llama-index-core<0.13.0,>=0.12.0->llama-index-callbacks-arize-phoenix) (0.6.7)\n",
            "Requirement already satisfied: deprecated>=1.2.9.3 in /usr/local/lib/python3.10/dist-packages (from llama-index-core<0.13.0,>=0.12.0->llama-index-callbacks-arize-phoenix) (1.2.15)\n",
            "Requirement already satisfied: dirtyjson<2.0.0,>=1.0.8 in /usr/local/lib/python3.10/dist-packages (from llama-index-core<0.13.0,>=0.12.0->llama-index-callbacks-arize-phoenix) (1.0.8)\n",
            "Requirement already satisfied: filetype<2.0.0,>=1.2.0 in /usr/local/lib/python3.10/dist-packages (from llama-index-core<0.13.0,>=0.12.0->llama-index-callbacks-arize-phoenix) (1.2.0)\n",
            "Requirement already satisfied: fsspec>=2023.5.0 in /usr/local/lib/python3.10/dist-packages (from llama-index-core<0.13.0,>=0.12.0->llama-index-callbacks-arize-phoenix) (2024.10.0)\n",
            "Requirement already satisfied: nest-asyncio<2.0.0,>=1.5.8 in /usr/local/lib/python3.10/dist-packages (from llama-index-core<0.13.0,>=0.12.0->llama-index-callbacks-arize-phoenix) (1.6.0)\n",
            "Requirement already satisfied: networkx>=3.0 in /usr/local/lib/python3.10/dist-packages (from llama-index-core<0.13.0,>=0.12.0->llama-index-callbacks-arize-phoenix) (3.4.2)\n",
            "Requirement already satisfied: nltk>3.8.1 in /usr/local/lib/python3.10/dist-packages (from llama-index-core<0.13.0,>=0.12.0->llama-index-callbacks-arize-phoenix) (3.9.1)\n",
            "Requirement already satisfied: pillow>=9.0.0 in /usr/local/lib/python3.10/dist-packages (from llama-index-core<0.13.0,>=0.12.0->llama-index-callbacks-arize-phoenix) (11.0.0)\n",
            "Requirement already satisfied: requests>=2.31.0 in /usr/local/lib/python3.10/dist-packages (from llama-index-core<0.13.0,>=0.12.0->llama-index-callbacks-arize-phoenix) (2.32.3)\n",
            "Requirement already satisfied: tenacity!=8.4.0,<10.0.0,>=8.2.0 in /usr/local/lib/python3.10/dist-packages (from llama-index-core<0.13.0,>=0.12.0->llama-index-callbacks-arize-phoenix) (9.0.0)\n",
            "Requirement already satisfied: tiktoken>=0.3.3 in /usr/local/lib/python3.10/dist-packages (from llama-index-core<0.13.0,>=0.12.0->llama-index-callbacks-arize-phoenix) (0.8.0)\n",
            "Requirement already satisfied: typing-inspect>=0.8.0 in /usr/local/lib/python3.10/dist-packages (from llama-index-core<0.13.0,>=0.12.0->llama-index-callbacks-arize-phoenix) (0.9.0)\n",
            "Requirement already satisfied: opentelemetry-api in /usr/local/lib/python3.10/dist-packages (from openinference-instrumentation-llama-index>=3.0.0->llama-index-callbacks-arize-phoenix) (1.29.0)\n",
            "Requirement already satisfied: opentelemetry-instrumentation in /usr/local/lib/python3.10/dist-packages (from openinference-instrumentation-llama-index>=3.0.0->llama-index-callbacks-arize-phoenix) (0.50b0)\n",
            "Requirement already satisfied: aiohappyeyeballs>=2.3.0 in /usr/local/lib/python3.10/dist-packages (from aiohttp<4.0.0,>=3.8.6->llama-index-core<0.13.0,>=0.12.0->llama-index-callbacks-arize-phoenix) (2.4.4)\n",
            "Requirement already satisfied: aiosignal>=1.1.2 in /usr/local/lib/python3.10/dist-packages (from aiohttp<4.0.0,>=3.8.6->llama-index-core<0.13.0,>=0.12.0->llama-index-callbacks-arize-phoenix) (1.3.2)\n",
            "Requirement already satisfied: async-timeout<6.0,>=4.0 in /usr/local/lib/python3.10/dist-packages (from aiohttp<4.0.0,>=3.8.6->llama-index-core<0.13.0,>=0.12.0->llama-index-callbacks-arize-phoenix) (4.0.3)\n",
            "Requirement already satisfied: attrs>=17.3.0 in /usr/local/lib/python3.10/dist-packages (from aiohttp<4.0.0,>=3.8.6->llama-index-core<0.13.0,>=0.12.0->llama-index-callbacks-arize-phoenix) (24.3.0)\n",
            "Requirement already satisfied: frozenlist>=1.1.1 in /usr/local/lib/python3.10/dist-packages (from aiohttp<4.0.0,>=3.8.6->llama-index-core<0.13.0,>=0.12.0->llama-index-callbacks-arize-phoenix) (1.5.0)\n",
            "Requirement already satisfied: multidict<7.0,>=4.5 in /usr/local/lib/python3.10/dist-packages (from aiohttp<4.0.0,>=3.8.6->llama-index-core<0.13.0,>=0.12.0->llama-index-callbacks-arize-phoenix) (6.1.0)\n",
            "Requirement already satisfied: propcache>=0.2.0 in /usr/local/lib/python3.10/dist-packages (from aiohttp<4.0.0,>=3.8.6->llama-index-core<0.13.0,>=0.12.0->llama-index-callbacks-arize-phoenix) (0.2.1)\n",
            "Requirement already satisfied: yarl<2.0,>=1.17.0 in /usr/local/lib/python3.10/dist-packages (from aiohttp<4.0.0,>=3.8.6->llama-index-core<0.13.0,>=0.12.0->llama-index-callbacks-arize-phoenix) (1.18.3)\n",
            "Requirement already satisfied: Mako in /usr/local/lib/python3.10/dist-packages (from alembic<2,>=1.3.0->arize-phoenix>=3.0.3->llama-index-callbacks-arize-phoenix) (1.3.8)\n",
            "Requirement already satisfied: click in /usr/local/lib/python3.10/dist-packages (from nltk>3.8.1->llama-index-core<0.13.0,>=0.12.0->llama-index-callbacks-arize-phoenix) (8.1.7)\n",
            "Requirement already satisfied: joblib in /usr/local/lib/python3.10/dist-packages (from nltk>3.8.1->llama-index-core<0.13.0,>=0.12.0->llama-index-callbacks-arize-phoenix) (1.4.2)\n",
            "Requirement already satisfied: regex>=2021.8.3 in /usr/local/lib/python3.10/dist-packages (from nltk>3.8.1->llama-index-core<0.13.0,>=0.12.0->llama-index-callbacks-arize-phoenix) (2024.11.6)\n",
            "Requirement already satisfied: pytz>=2020.1 in /usr/local/lib/python3.10/dist-packages (from pandas>=1.0->arize-phoenix>=3.0.3->llama-index-callbacks-arize-phoenix) (2024.2)\n",
            "Requirement already satisfied: tzdata>=2022.7 in /usr/local/lib/python3.10/dist-packages (from pandas>=1.0->arize-phoenix>=3.0.3->llama-index-callbacks-arize-phoenix) (2024.2)\n",
            "Requirement already satisfied: annotated-types>=0.6.0 in /usr/local/lib/python3.10/dist-packages (from pydantic!=2.0.*,<3,>=1.0->arize-phoenix>=3.0.3->llama-index-callbacks-arize-phoenix) (0.7.0)\n",
            "Requirement already satisfied: pydantic-core==2.27.1 in /usr/local/lib/python3.10/dist-packages (from pydantic!=2.0.*,<3,>=1.0->arize-phoenix>=3.0.3->llama-index-callbacks-arize-phoenix) (2.27.1)\n",
            "Requirement already satisfied: charset-normalizer<4,>=2 in /usr/local/lib/python3.10/dist-packages (from requests>=2.31.0->llama-index-core<0.13.0,>=0.12.0->llama-index-callbacks-arize-phoenix) (3.4.0)\n",
            "Requirement already satisfied: idna<4,>=2.5 in /usr/local/lib/python3.10/dist-packages (from requests>=2.31.0->llama-index-core<0.13.0,>=0.12.0->llama-index-callbacks-arize-phoenix) (3.10)\n",
            "Requirement already satisfied: urllib3<3,>=1.21.1 in /usr/local/lib/python3.10/dist-packages (from requests>=2.31.0->llama-index-core<0.13.0,>=0.12.0->llama-index-callbacks-arize-phoenix) (2.2.3)\n",
            "Requirement already satisfied: certifi>=2017.4.17 in /usr/local/lib/python3.10/dist-packages (from requests>=2.31.0->llama-index-core<0.13.0,>=0.12.0->llama-index-callbacks-arize-phoenix) (2024.12.14)\n",
            "Requirement already satisfied: greenlet!=0.4.17 in /usr/local/lib/python3.10/dist-packages (from sqlalchemy<3,>=2.0.4->sqlalchemy[asyncio]<3,>=2.0.4->arize-phoenix>=3.0.3->llama-index-callbacks-arize-phoenix) (3.1.1)\n",
            "Requirement already satisfied: mypy-extensions>=0.3.0 in /usr/local/lib/python3.10/dist-packages (from typing-inspect>=0.8.0->llama-index-core<0.13.0,>=0.12.0->llama-index-callbacks-arize-phoenix) (1.0.0)\n",
            "Requirement already satisfied: cryptography in /usr/local/lib/python3.10/dist-packages (from authlib->arize-phoenix>=3.0.3->llama-index-callbacks-arize-phoenix) (43.0.3)\n",
            "Requirement already satisfied: marshmallow<4.0.0,>=3.18.0 in /usr/local/lib/python3.10/dist-packages (from dataclasses-json->llama-index-core<0.13.0,>=0.12.0->llama-index-callbacks-arize-phoenix) (3.23.3)\n",
            "Requirement already satisfied: anyio<5,>=3.4.0 in /usr/local/lib/python3.10/dist-packages (from starlette->arize-phoenix>=3.0.3->llama-index-callbacks-arize-phoenix) (3.7.1)\n",
            "Requirement already satisfied: httpcore==1.* in /usr/local/lib/python3.10/dist-packages (from httpx->arize-phoenix>=3.0.3->llama-index-callbacks-arize-phoenix) (1.0.7)\n",
            "Requirement already satisfied: h11<0.15,>=0.13 in /usr/local/lib/python3.10/dist-packages (from httpcore==1.*->httpx->arize-phoenix>=3.0.3->llama-index-callbacks-arize-phoenix) (0.14.0)\n",
            "Requirement already satisfied: MarkupSafe>=2.0 in /usr/local/lib/python3.10/dist-packages (from jinja2->arize-phoenix>=3.0.3->llama-index-callbacks-arize-phoenix) (3.0.2)\n",
            "Requirement already satisfied: importlib-metadata<=8.5.0,>=6.0 in /usr/local/lib/python3.10/dist-packages (from opentelemetry-api->openinference-instrumentation-llama-index>=3.0.0->llama-index-callbacks-arize-phoenix) (8.5.0)\n",
            "Requirement already satisfied: opentelemetry-exporter-otlp-proto-grpc==1.29.0 in /usr/local/lib/python3.10/dist-packages (from opentelemetry-exporter-otlp->arize-phoenix>=3.0.3->llama-index-callbacks-arize-phoenix) (1.29.0)\n",
            "Requirement already satisfied: opentelemetry-exporter-otlp-proto-http==1.29.0 in /usr/local/lib/python3.10/dist-packages (from opentelemetry-exporter-otlp->arize-phoenix>=3.0.3->llama-index-callbacks-arize-phoenix) (1.29.0)\n",
            "Requirement already satisfied: googleapis-common-protos~=1.52 in /usr/local/lib/python3.10/dist-packages (from opentelemetry-exporter-otlp-proto-grpc==1.29.0->opentelemetry-exporter-otlp->arize-phoenix>=3.0.3->llama-index-callbacks-arize-phoenix) (1.66.0)\n",
            "Requirement already satisfied: opentelemetry-exporter-otlp-proto-common==1.29.0 in /usr/local/lib/python3.10/dist-packages (from opentelemetry-exporter-otlp-proto-grpc==1.29.0->opentelemetry-exporter-otlp->arize-phoenix>=3.0.3->llama-index-callbacks-arize-phoenix) (1.29.0)\n",
            "Requirement already satisfied: packaging>=18.0 in /usr/local/lib/python3.10/dist-packages (from opentelemetry-instrumentation->openinference-instrumentation-llama-index>=3.0.0->llama-index-callbacks-arize-phoenix) (24.2)\n",
            "Requirement already satisfied: threadpoolctl>=3.1.0 in /usr/local/lib/python3.10/dist-packages (from scikit-learn->arize-phoenix>=3.0.3->llama-index-callbacks-arize-phoenix) (3.5.0)\n",
            "Requirement already satisfied: sniffio>=1.1 in /usr/local/lib/python3.10/dist-packages (from anyio<5,>=3.4.0->starlette->arize-phoenix>=3.0.3->llama-index-callbacks-arize-phoenix) (1.3.1)\n",
            "Requirement already satisfied: exceptiongroup in /usr/local/lib/python3.10/dist-packages (from anyio<5,>=3.4.0->starlette->arize-phoenix>=3.0.3->llama-index-callbacks-arize-phoenix) (1.2.2)\n",
            "Requirement already satisfied: zipp>=3.20 in /usr/local/lib/python3.10/dist-packages (from importlib-metadata<=8.5.0,>=6.0->opentelemetry-api->openinference-instrumentation-llama-index>=3.0.0->llama-index-callbacks-arize-phoenix) (3.21.0)\n",
            "Requirement already satisfied: six>=1.5 in /usr/local/lib/python3.10/dist-packages (from python-dateutil<3.0.0,>=2.7.0->strawberry-graphql==0.253.1->arize-phoenix>=3.0.3->llama-index-callbacks-arize-phoenix) (1.17.0)\n",
            "Requirement already satisfied: cffi>=1.12 in /usr/local/lib/python3.10/dist-packages (from cryptography->authlib->arize-phoenix>=3.0.3->llama-index-callbacks-arize-phoenix) (1.17.1)\n",
            "Requirement already satisfied: pycparser in /usr/local/lib/python3.10/dist-packages (from cffi>=1.12->cryptography->authlib->arize-phoenix>=3.0.3->llama-index-callbacks-arize-phoenix) (2.22)\n"
          ]
        }
      ],
      "source": [
        "%pip install llama-index-callbacks-arize-phoenix"
      ]
    },
    {
      "cell_type": "markdown",
      "metadata": {
        "id": "PgD-mCfLvZfX"
      },
      "source": [
        "## **Download Data and Do Imports**"
      ]
    },
    {
      "cell_type": "code",
      "execution_count": 150,
      "metadata": {
        "colab": {
          "base_uri": "https://localhost:8080/"
        },
        "id": "BrqLiByQvZfY",
        "outputId": "c99487fb-1e35-4164-8bd2-302521b8f485"
      },
      "outputs": [
        {
          "output_type": "stream",
          "name": "stdout",
          "text": [
            "--2025-01-04 19:28:11--  https://raw.githubusercontent.com/run-llama/llama_index/main/docs/docs/examples/data/10k/uber_2021.pdf\n",
            "Resolving raw.githubusercontent.com (raw.githubusercontent.com)... 185.199.109.133, 185.199.111.133, 185.199.110.133, ...\n",
            "Connecting to raw.githubusercontent.com (raw.githubusercontent.com)|185.199.109.133|:443... connected.\n",
            "HTTP request sent, awaiting response... 200 OK\n",
            "Length: 1880483 (1.8M) [application/octet-stream]\n",
            "Saving to: ‘data/10k/uber_2021.pdf’\n",
            "\n",
            "\rdata/10k/uber_2021.   0%[                    ]       0  --.-KB/s               \rdata/10k/uber_2021. 100%[===================>]   1.79M  --.-KB/s    in 0.05s   \n",
            "\n",
            "2025-01-04 19:28:11 (35.8 MB/s) - ‘data/10k/uber_2021.pdf’ saved [1880483/1880483]\n",
            "\n",
            "--2025-01-04 19:28:11--  https://raw.githubusercontent.com/run-llama/llama_index/main/docs/docs/examples/data/10k/lyft_2021.pdf\n",
            "Resolving raw.githubusercontent.com (raw.githubusercontent.com)... 185.199.111.133, 185.199.109.133, 185.199.110.133, ...\n",
            "Connecting to raw.githubusercontent.com (raw.githubusercontent.com)|185.199.111.133|:443... connected.\n",
            "HTTP request sent, awaiting response... 200 OK\n",
            "Length: 1440303 (1.4M) [application/octet-stream]\n",
            "Saving to: ‘data/10k/lyft_2021.pdf’\n",
            "\n",
            "data/10k/lyft_2021. 100%[===================>]   1.37M  --.-KB/s    in 0.05s   \n",
            "\n",
            "2025-01-04 19:28:11 (25.8 MB/s) - ‘data/10k/lyft_2021.pdf’ saved [1440303/1440303]\n",
            "\n"
          ]
        }
      ],
      "source": [
        "!mkdir -p 'data/10k/'\n",
        "!wget 'https://raw.githubusercontent.com/run-llama/llama_index/main/docs/docs/examples/data/10k/uber_2021.pdf' -O 'data/10k/uber_2021.pdf'\n",
        "!wget 'https://raw.githubusercontent.com/run-llama/llama_index/main/docs/docs/examples/data/10k/lyft_2021.pdf' -O 'data/10k/lyft_2021.pdf'"
      ]
    },
    {
      "cell_type": "code",
      "execution_count": 151,
      "metadata": {
        "id": "-BojBEjNvZfa"
      },
      "outputs": [],
      "source": [
        "import os"
      ]
    },
    {
      "cell_type": "code",
      "execution_count": 152,
      "metadata": {
        "id": "H1ZlDV4_vZfc"
      },
      "outputs": [],
      "source": [
        "import logging\n",
        "import sys\n",
        "\n",
        "logging.basicConfig(stream=sys.stdout, level=logging.INFO)\n",
        "logging.getLogger().addHandler(logging.StreamHandler(stream=sys.stdout))\n",
        "\n",
        "from llama_index.core import VectorStoreIndex, SimpleDirectoryReader\n",
        "from llama_index.core.indices.query.query_transform import HyDEQueryTransform\n",
        "from llama_index.core.query_engine import TransformQueryEngine\n",
        "from IPython.display import Markdown, display\n"
      ]
    },
    {
      "cell_type": "code",
      "execution_count": 154,
      "metadata": {
        "id": "iDTR5wd3vZfe"
      },
      "outputs": [],
      "source": [
        "from llama_index.core import (\n",
        "    SimpleDirectoryReader,\n",
        "    VectorStoreIndex,\n",
        "    StorageContext,\n",
        "    load_index_from_storage,\n",
        ")\n",
        "\n",
        "from llama_index.core.tools import QueryEngineTool, ToolMetadata\n",
        "\n",
        "# define global callback setting\n",
        "from llama_index.core.settings import Settings\n",
        "from llama_index.core.callbacks import CallbackManager"
      ]
    },
    {
      "cell_type": "markdown",
      "metadata": {
        "id": "QXPawLIuvZff"
      },
      "source": [
        "## **Setup Observability**"
      ]
    },
    {
      "cell_type": "code",
      "execution_count": 155,
      "metadata": {
        "id": "YxIGA_iWvZfg"
      },
      "outputs": [],
      "source": [
        "callback_manager = CallbackManager()\n",
        "Settings.callback_manager = callback_manager"
      ]
    },
    {
      "cell_type": "code",
      "execution_count": 156,
      "metadata": {
        "colab": {
          "base_uri": "https://localhost:8080/",
          "height": 225
        },
        "id": "RPLriDmWvZfg",
        "outputId": "f4c334d9-70ff-4022-fff9-3db40d494e57"
      },
      "outputs": [
        {
          "output_type": "stream",
          "name": "stderr",
          "text": [
            "WARNING:phoenix.session.session:Existing running Phoenix instance detected! Shutting it down and starting a new instance...\n"
          ]
        },
        {
          "output_type": "stream",
          "name": "stdout",
          "text": [
            "Existing running Phoenix instance detected! Shutting it down and starting a new instance...\n",
            "Existing running Phoenix instance detected! Shutting it down and starting a new instance...\n",
            "Existing running Phoenix instance detected! Shutting it down and starting a new instance...\n",
            "Existing running Phoenix instance detected! Shutting it down and starting a new instance...\n"
          ]
        },
        {
          "output_type": "stream",
          "name": "stderr",
          "text": [
            "WARNING:opentelemetry.instrumentation.instrumentor:Attempting to instrument while already instrumented\n"
          ]
        },
        {
          "output_type": "stream",
          "name": "stdout",
          "text": [
            "🌍 To view the Phoenix app in your browser, visit https://y49rao28sm1-496ff2e9c6d22116-6006-colab.googleusercontent.com/\n",
            "📖 For more information on how to use Phoenix, check out https://docs.arize.com/phoenix\n",
            "Attempting to instrument while already instrumented\n",
            "Attempting to instrument while already instrumented\n",
            "Attempting to instrument while already instrumented\n",
            "Attempting to instrument while already instrumented\n"
          ]
        }
      ],
      "source": [
        "# setup Arize Phoenix for logging/observability\n",
        "import phoenix as px\n",
        "import llama_index.core\n",
        "\n",
        "px.launch_app()\n",
        "llama_index.core.set_global_handler(\"arize_phoenix\")"
      ]
    },
    {
      "cell_type": "code",
      "source": [
        "from llama_index.embeddings.huggingface import HuggingFaceEmbedding\n",
        "from llama_index.core import Settings\n",
        "\n",
        "Settings.embed_model = HuggingFaceEmbedding(\n",
        "    model_name=\"sentence-transformers/all-MiniLM-L6-v2\"\n",
        ")"
      ],
      "metadata": {
        "id": "7tWCUiF9zAmw"
      },
      "execution_count": 157,
      "outputs": []
    },
    {
      "cell_type": "code",
      "execution_count": 158,
      "metadata": {
        "id": "L1yNqnlOvZfh"
      },
      "outputs": [],
      "source": [
        "os.environ[\"GROQ_API_KEY\"] = \"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\""
      ]
    },
    {
      "cell_type": "markdown",
      "metadata": {
        "id": "7nIb0_sfvZfi"
      },
      "source": [
        "## **Setup Multi Doc HyDE Query Engine / Tool**"
      ]
    },
    {
      "cell_type": "markdown",
      "metadata": {
        "id": "x8WUAba9vZfi"
      },
      "source": [
        "We setup HyDE Query engines and their tools for our multi doc system.\n",
        "\n",
        "HyDE, short for Hypothetical Document Embeddings, is an innovative retrieval technique aimed at bolstering the efficiency of document retrieval processes. This method operates by crafting a hypothetical document tailored to an incoming query, which is subsequently embedded. The resulting embedding is leveraged to efficiently retrieve real documents exhibiting similarities to the hypothetical counterpart."
      ]
    },
    {
      "cell_type": "code",
      "execution_count": 159,
      "metadata": {
        "id": "fc29yIoMvZfj"
      },
      "outputs": [],
      "source": [
        "tu_vi_ham_so = \"/content/data/TU_VI_HAM_SO.pdf\"\n",
        "tu_dien_tu_vi = \"/content/data/Tu-dien-Tu-Vi.pdf\"\n",
        "\n",
        "try:\n",
        "    storage_context = StorageContext.from_defaults(\n",
        "        persist_dir=\"./storage/lyft\"\n",
        "    )\n",
        "    lyft_index = load_index_from_storage(storage_context)\n",
        "\n",
        "    storage_context = StorageContext.from_defaults(\n",
        "        persist_dir=\"./storage/uber\"\n",
        "    )\n",
        "    uber_index = load_index_from_storage(storage_context)\n",
        "\n",
        "    index_loaded = True\n",
        "except:\n",
        "    index_loaded = False\n",
        "\n",
        "if not index_loaded:\n",
        "    # load data\n",
        "    lyft_docs = SimpleDirectoryReader(\n",
        "        input_files=[tu_vi_ham_so]\n",
        "    ).load_data()\n",
        "    uber_docs = SimpleDirectoryReader(\n",
        "        input_files=[tu_dien_tu_vi]\n",
        "    ).load_data()\n",
        "\n",
        "    # build index\n",
        "    lyft_index = VectorStoreIndex.from_documents(lyft_docs)\n",
        "    uber_index = VectorStoreIndex.from_documents(uber_docs)\n",
        "\n",
        "    # persist index\n",
        "    lyft_index.storage_context.persist(persist_dir=\"./storage/lyft\")\n",
        "    uber_index.storage_context.persist(persist_dir=\"./storage/uber\")"
      ]
    },
    {
      "cell_type": "code",
      "source": [
        "from llama_index.llms.groq import Groq\n",
        "\n",
        "# llm = Groq(model=\"llama3-8b-8192\")\n",
        "llm = Groq(model=\"llama3-70b-8192\")"
      ],
      "metadata": {
        "id": "HDhrSm6r0AS6"
      },
      "execution_count": 160,
      "outputs": []
    },
    {
      "cell_type": "code",
      "execution_count": 162,
      "metadata": {
        "id": "g9tAklgWvZfj"
      },
      "outputs": [],
      "source": [
        "lyft_engine = lyft_index.as_query_engine(llm=llm)\n",
        "uber_engine = uber_index.as_query_engine(llm=llm)\n",
        "\n",
        "\n",
        "hyde = HyDEQueryTransform(llm = llm, include_original=True)\n",
        "lyft_hyde_query_engine = TransformQueryEngine(lyft_engine, hyde)\n",
        "uber_hyde_query_engine = TransformQueryEngine(uber_engine, hyde)"
      ]
    },
    {
      "cell_type": "code",
      "execution_count": null,
      "metadata": {
        "id": "-y_mxuZsvZfk"
      },
      "outputs": [],
      "source": [
        "query_engine_tools = [\n",
        "    QueryEngineTool(\n",
        "        query_engine=lyft_hyde_query_engine,\n",
        "        metadata=ToolMetadata(\n",
        "            name=\"Astrological_Function_Analysis\",\n",
        "            description=(\n",
        "                \"Analyze horoscopes using mathematical functions based on scientific principles.\"\n",
        "                \"Transition from mysticism to logical, understandable, and applicable methods.\"\n",
        "                \"Suitable for studying personality, fate, and life influences.\"\n",
        "            ),\n",
        "        ),\n",
        "    ),\n",
        "    QueryEngineTool(\n",
        "        query_engine=uber_hyde_query_engine,\n",
        "        metadata=ToolMetadata(\n",
        "            name=\"Astrology_Dictionary\",\n",
        "            description=(\n",
        "                \"A comprehensive dictionary of terms, concepts, and methods in astrology.\"\n",
        "                \"Provides guidance on interpreting houses, stars, and calculating natal charts and fate cycles.\"\n",
        "                \"Suitable for learners from beginners to advanced levels seeking deeper insights into astrology.\"\n",
        "            ),\n",
        "        ),\n",
        "    ),\n",
        "]"
      ]
    },
    {
      "cell_type": "markdown",
      "metadata": {
        "id": "KF7ATdVivZfl"
      },
      "source": [
        "## **Setup ReAct Agent Pipeline**\n",
        "\n",
        "### What is ReAct Agent\n",
        "\n",
        "*  ReAct is a technique that enables LLMs to reason and perform task-specific actions. It combines chain-of-thought reasoning with action planning. It enables LLMs to create reasoning tracks and task-specific actions, strengthening the synergy between them using memory.\n",
        "\n",
        "* *The ReACT agent model refers to a framework that integrates the reasoning capabilities of LLMs with the ability to take actionable steps, creating a more sophisticated system that can understand and process information, evaluate situations, take appropriate actions, communicate responses, and track ongoing situations.*\n",
        "\n",
        "![image.png](data:image/png;base64,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)\n",
        "\n",
        "**Reasoning Loop** : The reasoning loop allows data agents to select and interact with tools in response to an input task.\n",
        "\n",
        "**Memory**: LLMs, with access to memory, can store and retrieve data, ideal for apps tracking state or accessing multiple sources. Memory retains past interactions, enabling seamless reference to earlier conversation points. This integration involves allocating memory slots for relevant information and leveraging retrieval mechanisms during conversations. By recalling stored data, LLMs enhance contextual responses and integrate external sources, enriching user experiences.\n",
        "\n",
        "# Steps of the ReAct agent we will create\n",
        "\n",
        "1.   Takes in agent inputs\n",
        "2.   Calls ReAct prompt using LLM to generate next action/tool (or returns a response).\n",
        "3. If tool/action is selected, call tool pipeline to execute tool + collect response (In this case, our tools are HyDE Query Engine tools for both documents).\n",
        "4. If response is generated, get response.\n",
        "\n",
        "\n",
        "\n",
        "* An `AgentInputComponent `that allows you to convert the agent inputs (Task, state dictionary) into a set of inputs for the query pipeline.\n",
        "\n",
        "* An `AgentFnComponent`: a general processor that allows you to take in the current Task, state, as well as any arbitrary inputs, and returns an output. In this cookbook we define a function component to format the ReAct prompt. However, you can put this anywhere\n",
        "\n",
        "Note that any function passed into `AgentFnComponent` and `AgentInputComponent` MUST include task and state as input variables, as these are inputs passed from the agent.\n",
        "\n",
        "Note that the output of an agentic query pipeline MUST be `Tuple[AgentChatResponse, bool]`.\n",
        "\n",
        "\n",
        "## Task and State\n",
        "\n",
        "**Task**: It contains the information required to fulfill the query requested by the user. User input, memory, metadatas, global states over time.\n",
        "\n",
        "\n",
        "**State**: Some informations like memory\n"
      ]
    },
    {
      "cell_type": "markdown",
      "metadata": {
        "id": "UceN0wxUvZfn"
      },
      "source": [
        "## **Agent Input Component**\n",
        "\n",
        "Generates inputs for the given task."
      ]
    },
    {
      "cell_type": "code",
      "execution_count": null,
      "metadata": {
        "id": "JECiyYbMvZfn"
      },
      "outputs": [],
      "source": [
        "from llama_index.core.agent.react.types import (\n",
        "    ActionReasoningStep,\n",
        "    ObservationReasoningStep,\n",
        "    ResponseReasoningStep,\n",
        ")\n",
        "from llama_index.core.agent import Task, AgentChatResponse\n",
        "from llama_index.core.query_pipeline import (\n",
        "    AgentInputComponent,\n",
        "    AgentFnComponent,\n",
        "    CustomAgentComponent,\n",
        "    QueryComponent,\n",
        "    ToolRunnerComponent,\n",
        ")\n",
        "from llama_index.core.llms import MessageRole\n",
        "from typing import Dict, Any, Optional, Tuple, List, cast\n",
        "\n",
        "\n",
        "## Agent Input Component\n",
        "## This is the component that produces agent inputs to the rest of the components\n",
        "## Can also put initialization logic here.\n",
        "def agent_input_fn(task: Task, state: Dict[str, Any]) -> Dict[str, Any]:\n",
        "    \"\"\"Agent input function.\n",
        "\n",
        "    Returns:\n",
        "        A Dictionary of output keys and values. If you are specifying\n",
        "        src_key when defining links between this component and other\n",
        "        components, make sure the src_key matches the specified output_key.\n",
        "\n",
        "    \"\"\"\n",
        "    # initialize current_reasoning\n",
        "    if \"current_reasoning\" not in state:\n",
        "        state[\"current_reasoning\"] = []\n",
        "    reasoning_step = ObservationReasoningStep(observation=task.input)\n",
        "    state[\"current_reasoning\"].append(reasoning_step)\n",
        "    return {\"input\": task.input}\n",
        "\n",
        "\n",
        "agent_input_component = AgentInputComponent(fn=agent_input_fn)"
      ]
    },
    {
      "cell_type": "markdown",
      "metadata": {
        "id": "VaGneflHvZfo"
      },
      "source": [
        "# Define Agent Prompt\n",
        "Here we define the agent component that generates a ReAct prompt, and after the output is generated from the LLM, parses into a structured object.\n",
        "\n",
        "After the input is received, LLM is called with the ReAct agent prompt.\n",
        "\n",
        "`ReActChatFormatter` basically generates a fully formatted react prompt using ReAct Prompting (Chain-Of-Thought + Acting)\n",
        " method"
      ]
    },
    {
      "cell_type": "code",
      "execution_count": null,
      "metadata": {
        "id": "7FQMFF8pvZfp"
      },
      "outputs": [],
      "source": [
        "from llama_index.core.agent import ReActChatFormatter\n",
        "from llama_index.core.query_pipeline import InputComponent, Link\n",
        "from llama_index.core.llms import ChatMessage\n",
        "from llama_index.core.tools import BaseTool\n",
        "\n",
        "\n",
        "## define prompt function\n",
        "def react_prompt_fn(\n",
        "    task: Task, state: Dict[str, Any], input: str, tools: List[BaseTool]\n",
        ") -> List[ChatMessage]:\n",
        "    # Add input to reasoning\n",
        "    chat_formatter = ReActChatFormatter()\n",
        "    return chat_formatter.format(\n",
        "        tools,\n",
        "        chat_history=task.memory.get() + state[\"memory\"].get_all(),\n",
        "        current_reasoning=state[\"current_reasoning\"],\n",
        "    )\n",
        "\n",
        "\n",
        "react_prompt_component = AgentFnComponent(\n",
        "    fn=react_prompt_fn, partial_dict={\"tools\": query_engine_tools}\n",
        ")"
      ]
    },
    {
      "cell_type": "markdown",
      "metadata": {
        "id": "srzalwGTvZfp"
      },
      "source": [
        "You can see the ReAct prompt here:\n",
        "\n",
        "https://github.com/run-llama/llama_index/blob/6cd92affa5835aa21f823ff985a81f006c496bbd/llama-index-core/llama_index/core/agent/react/prompts.py#L6"
      ]
    },
    {
      "cell_type": "markdown",
      "metadata": {
        "id": "ByJSNeNcvZfq"
      },
      "source": [
        "## **Define Agent Output Parser + Tool Pipeline**\n",
        "Once the LLM gives an output, we have a decision tree:\n",
        "\n",
        "1. If an answer is given, then we’re done. Process the output\n",
        "\n",
        "2. If an action is given, we need to execute the specified tool with the specified args, and then process the output.\n",
        "\n",
        "Tool calling can be done via the `ToolRunnerComponent` module. This is a simple wrapper module that takes in a list of tools, and can be “executed” with the specified tool name (every tool has a name) and tool action.\n",
        "\n",
        "We implement this overall module `OutputAgentComponent` that subclasses `CustomAgentComponent`.\n",
        "\n",
        "`perse_react_output_fn` function simply parses the ReAct prompt got from `react_prompt_fn` into the reasoning step.\n",
        "\n",
        "In this case, the ReAct Agent choose whatever go with a tool or done with tools and simply gets the output that will be fit in chat response for agents (`AgentChatResponse`).\n",
        "\n",
        "The `run_tool_fn` function simply runs a tool if it is selected.\n",
        "\n",
        "Finally, the incoming output is edited in accordance with the Agent output format by applying the `process_agent_response_fn` function."
      ]
    },
    {
      "cell_type": "code",
      "execution_count": null,
      "metadata": {
        "id": "imZ6bIVLvZfr"
      },
      "outputs": [],
      "source": [
        "from typing import Set, Optional\n",
        "from llama_index.core.agent.react.output_parser import ReActOutputParser\n",
        "from llama_index.core.llms import ChatResponse\n",
        "from llama_index.core.agent.types import Task\n",
        "\n",
        "\n",
        "def parse_react_output_fn(\n",
        "    task: Task, state: Dict[str, Any], chat_response: ChatResponse\n",
        "):\n",
        "    \"\"\"Parse ReAct output into a reasoning step.\"\"\"\n",
        "    output_parser = ReActOutputParser()\n",
        "    reasoning_step = output_parser.parse(chat_response.message.content)\n",
        "    return {\"done\": reasoning_step.is_done, \"reasoning_step\": reasoning_step}\n",
        "\n",
        "\n",
        "parse_react_output = AgentFnComponent(fn=parse_react_output_fn)\n",
        "\n",
        "\n",
        "def run_tool_fn(\n",
        "    task: Task, state: Dict[str, Any], reasoning_step: ActionReasoningStep\n",
        "):\n",
        "    \"\"\"Run tool and process tool output.\"\"\"\n",
        "    tool_runner_component = ToolRunnerComponent(\n",
        "        query_engine_tools, callback_manager=task.callback_manager\n",
        "    )\n",
        "    tool_output = tool_runner_component.run_component(\n",
        "        tool_name=reasoning_step.action,\n",
        "        tool_input=reasoning_step.action_input,\n",
        "    )\n",
        "    observation_step = ObservationReasoningStep(\n",
        "        observation=str(tool_output[\"output\"])\n",
        "    )\n",
        "    state[\"current_reasoning\"].append(observation_step)\n",
        "    # TODO: get output\n",
        "\n",
        "    return {\"response_str\": observation_step.get_content(), \"is_done\": False}\n",
        "\n",
        "\n",
        "run_tool = AgentFnComponent(fn=run_tool_fn)\n",
        "\n",
        "\n",
        "def process_response_fn(\n",
        "    task: Task, state: Dict[str, Any], response_step: ResponseReasoningStep\n",
        "):\n",
        "    \"\"\"Process response.\"\"\"\n",
        "    state[\"current_reasoning\"].append(response_step)\n",
        "    response_str = response_step.response\n",
        "    # Now that we're done with this step, put into memory\n",
        "    state[\"memory\"].put(ChatMessage(content=task.input, role=MessageRole.USER))\n",
        "    state[\"memory\"].put(\n",
        "        ChatMessage(content=response_str, role=MessageRole.ASSISTANT)\n",
        "    )\n",
        "\n",
        "    return {\"response_str\": response_str, \"is_done\": True}\n",
        "\n",
        "\n",
        "process_response = AgentFnComponent(fn=process_response_fn)\n",
        "\n",
        "\n",
        "def process_agent_response_fn(\n",
        "    task: Task, state: Dict[str, Any], response_dict: dict\n",
        "):\n",
        "    \"\"\"Process agent response.\"\"\"\n",
        "    return (\n",
        "        AgentChatResponse(response_dict[\"response_str\"]),\n",
        "        response_dict[\"is_done\"],\n",
        "    )\n",
        "\n",
        "\n",
        "process_agent_response = AgentFnComponent(fn=process_agent_response_fn)"
      ]
    },
    {
      "cell_type": "markdown",
      "metadata": {
        "id": "0gZRaUkavZfs"
      },
      "source": [
        "# **Stitch together Agent Query Pipeline**\n",
        "We can now stitch together the top-level agent pipeline: agent_input -> react_prompt -> llm -> react_output.\n",
        "\n",
        "The last component is the if-else component that calls sub-components."
      ]
    },
    {
      "cell_type": "code",
      "execution_count": null,
      "metadata": {
        "id": "leXttmXcvZft"
      },
      "outputs": [],
      "source": [
        "from llama_index.core.query_pipeline import QueryPipeline as QP\n",
        "\n",
        "qp = QP(verbose=True)"
      ]
    },
    {
      "cell_type": "code",
      "execution_count": null,
      "metadata": {
        "id": "lXhdCZnWvZft"
      },
      "outputs": [],
      "source": [
        "from llama_index.core.query_pipeline import QueryPipeline as QP\n",
        "from llama_index.llms.openai import OpenAI\n",
        "\n",
        "qp.add_modules(\n",
        "    {\n",
        "        \"agent_input\": agent_input_component,\n",
        "        \"react_prompt\": react_prompt_component,\n",
        "        \"llm\": OpenAI(model=\"gpt-4-1106-preview\"),\n",
        "        \"react_output_parser\": parse_react_output,\n",
        "        \"run_tool\": run_tool,\n",
        "        \"process_response\": process_response,\n",
        "        \"process_agent_response\": process_agent_response,\n",
        "    }\n",
        ")"
      ]
    },
    {
      "cell_type": "code",
      "execution_count": null,
      "metadata": {
        "id": "9yZQ_NXgvZfu"
      },
      "outputs": [],
      "source": [
        "# link input to react prompt to parsed out response (either tool action/input or observation)\n",
        "qp.add_chain([\"agent_input\", \"react_prompt\", \"llm\", \"react_output_parser\"])\n",
        "\n",
        "# add conditional link from react output to tool call (if not done)\n",
        "qp.add_link(\n",
        "    \"react_output_parser\",\n",
        "    \"run_tool\",\n",
        "    condition_fn=lambda x: not x[\"done\"],\n",
        "    input_fn=lambda x: x[\"reasoning_step\"],\n",
        ")\n",
        "# add conditional link from react output to final response processing (if done)\n",
        "qp.add_link(\n",
        "    \"react_output_parser\",\n",
        "    \"process_response\",\n",
        "    condition_fn=lambda x: x[\"done\"],\n",
        "    input_fn=lambda x: x[\"reasoning_step\"],\n",
        ")\n",
        "\n",
        "# whether response processing or tool output processing, add link to final agent response\n",
        "qp.add_link(\"process_response\", \"process_agent_response\")\n",
        "qp.add_link(\"run_tool\", \"process_agent_response\")"
      ]
    },
    {
      "cell_type": "markdown",
      "metadata": {
        "id": "fXnPyB_LvZfu"
      },
      "source": [
        "## **Visualize Query Pipeline**"
      ]
    },
    {
      "cell_type": "code",
      "execution_count": null,
      "metadata": {
        "id": "GTRG3Q5wvZfv",
        "outputId": "9475ebda-e071-4669-a95e-82613ff0dd63"
      },
      "outputs": [
        {
          "name": "stdout",
          "output_type": "stream",
          "text": [
            "{\n",
            "    \"Nodes\": [\n",
            "        \"agent_input\",\n",
            "        \"react_prompt\",\n",
            "        \"llm\",\n",
            "        \"react_output_parser\",\n",
            "        \"run_tool\",\n",
            "        \"process_response\",\n",
            "        \"process_agent_response\"\n",
            "    ],\n",
            "    \"Edges\": [\n",
            "        {\n",
            "            \"src_key\": null,\n",
            "            \"dest_key\": null,\n",
            "            \"condition_fn\": null,\n",
            "            \"input_fn\": null,\n",
            "            \"width\": 1,\n",
            "            \"from\": \"agent_input\",\n",
            "            \"to\": \"react_prompt\",\n",
            "            \"arrows\": \"to\"\n",
            "        },\n",
            "        {\n",
            "            \"src_key\": null,\n",
            "            \"dest_key\": null,\n",
            "            \"condition_fn\": null,\n",
            "            \"input_fn\": null,\n",
            "            \"width\": 1,\n",
            "            \"from\": \"react_prompt\",\n",
            "            \"to\": \"llm\",\n",
            "            \"arrows\": \"to\"\n",
            "        },\n",
            "        {\n",
            "            \"src_key\": null,\n",
            "            \"dest_key\": null,\n",
            "            \"condition_fn\": null,\n",
            "            \"input_fn\": null,\n",
            "            \"width\": 1,\n",
            "            \"from\": \"llm\",\n",
            "            \"to\": \"react_output_parser\",\n",
            "            \"arrows\": \"to\"\n",
            "        },\n",
            "        {\n",
            "            \"src_key\": null,\n",
            "            \"dest_key\": null,\n",
            "            \"width\": 1,\n",
            "            \"from\": \"react_output_parser\",\n",
            "            \"to\": \"run_tool\",\n",
            "            \"arrows\": \"to\"\n",
            "        },\n",
            "        {\n",
            "            \"src_key\": null,\n",
            "            \"dest_key\": null,\n",
            "            \"width\": 1,\n",
            "            \"from\": \"react_output_parser\",\n",
            "            \"to\": \"process_response\",\n",
            "            \"arrows\": \"to\"\n",
            "        },\n",
            "        {\n",
            "            \"src_key\": null,\n",
            "            \"dest_key\": null,\n",
            "            \"condition_fn\": null,\n",
            "            \"input_fn\": null,\n",
            "            \"width\": 1,\n",
            "            \"from\": \"run_tool\",\n",
            "            \"to\": \"process_agent_response\",\n",
            "            \"arrows\": \"to\"\n",
            "        },\n",
            "        {\n",
            "            \"src_key\": null,\n",
            "            \"dest_key\": null,\n",
            "            \"condition_fn\": null,\n",
            "            \"input_fn\": null,\n",
            "            \"width\": 1,\n",
            "            \"from\": \"process_response\",\n",
            "            \"to\": \"process_agent_response\",\n",
            "            \"arrows\": \"to\"\n",
            "        }\n",
            "    ],\n",
            "    \"Height\": \"600px\",\n",
            "    \"Width\": \"100%\",\n",
            "    \"Heading\": \"\"\n",
            "}\n"
          ]
        }
      ],
      "source": [
        "from pyvis.network import Network\n",
        "\n",
        "net = Network(notebook=True, cdn_resources=\"in_line\", directed=True)\n",
        "net.from_nx(qp.clean_dag)\n",
        "print(net)"
      ]
    },
    {
      "cell_type": "code",
      "execution_count": null,
      "metadata": {
        "id": "8SLL__NqvZfw"
      },
      "outputs": [],
      "source": [
        "# Save the network as \"agent_dat.html\"\n",
        "net.write_html(\"agent_dag.html\")"
      ]
    },
    {
      "cell_type": "code",
      "execution_count": null,
      "metadata": {
        "id": "2a2KoazqvZfw"
      },
      "outputs": [],
      "source": [
        "from IPython.display import display, HTML\n",
        "\n",
        "# Read the contents of the HTML file\n",
        "with open(\"agent_dag.html\", \"r\") as file:\n",
        "    html_content = file.read()\n",
        "\n",
        "# Display the HTML content\n",
        "display(HTML(html_content))"
      ]
    },
    {
      "cell_type": "markdown",
      "metadata": {
        "id": "DAve-WV6vZfw"
      },
      "source": [
        "## **Setup Agent Worker around our Query Engines**"
      ]
    },
    {
      "cell_type": "code",
      "execution_count": null,
      "metadata": {
        "id": "-sprYhHFvZfx"
      },
      "outputs": [],
      "source": [
        "from llama_index.core.agent import QueryPipelineAgentWorker\n",
        "from llama_index.core.callbacks import CallbackManager\n",
        "\n",
        "agent_worker = QueryPipelineAgentWorker(qp)\n",
        "agent = agent_worker.as_agent(\n",
        "    callback_manager=CallbackManager([]), verbose=True\n",
        ")"
      ]
    },
    {
      "cell_type": "markdown",
      "metadata": {
        "id": "Zfv-N4L0vZfx"
      },
      "source": [
        "## **Run the Agent**"
      ]
    },
    {
      "cell_type": "code",
      "execution_count": null,
      "metadata": {
        "id": "sQHAu_x8vZfy"
      },
      "outputs": [],
      "source": [
        "# start task\n",
        "task = agent.create_task(\n",
        "    \"What was Uber's Management's Report on Internal Control over Financial Reporting?\"\n",
        ")"
      ]
    },
    {
      "cell_type": "code",
      "execution_count": null,
      "metadata": {
        "id": "Suoz9w5EvZfz",
        "outputId": "b0761f76-553a-43d5-97d8-8ba469b35392"
      },
      "outputs": [
        {
          "name": "stdout",
          "output_type": "stream",
          "text": [
            "> Running step 26c623b9-0864-45d9-9f91-f893a4696727. Step input: What was Uber's Management's Report on Internal Control over Financial Reporting?\n",
            "\u001b[1;3;38;2;155;135;227m> Running module agent_input with input: \n",
            "state: {'sources': [], 'memory': ChatMemoryBuffer(token_limit=3000, tokenizer_fn=functools.partial(<bound method Encoding.encode of <Encoding 'cl100k_base'>>, allowed_special='all'), chat_store=SimpleChatSto...\n",
            "task: task_id='aa7707d1-a35a-4d96-b2cc-ded765a3a3e2' input=\"What was Uber's Management's Report on Internal Control over Financial Reporting?\" memory=ChatMemoryBuffer(token_limit=3000, tokenizer_fn=functool...\n",
            "\n",
            "\u001b[0m\u001b[1;3;38;2;155;135;227m> Running module react_prompt with input: \n",
            "input: What was Uber's Management's Report on Internal Control over Financial Reporting?\n",
            "\n",
            "\u001b[0m\u001b[1;3;38;2;155;135;227m> Running module llm with input: \n",
            "messages: [ChatMessage(role=<MessageRole.SYSTEM: 'system'>, content='\\nYou are designed to help with a variety of tasks, from answering questions     to providing summaries to other types of analyses.\\n\\n## Too...\n",
            "\n",
            "\u001b[0m\u001b[1;3;38;2;155;135;227m> Running module react_output_parser with input: \n",
            "chat_response: assistant: Thought: I need to use the uber_10k tool to find the specific section about Uber's Management's Report on Internal Control over Financial Reporting for the year 2021.\n",
            "Action: uber_10k\n",
            "Actio...\n",
            "\n",
            "\u001b[0m\u001b[1;3;38;2;155;135;227m> Running module run_tool with input: \n",
            "reasoning_step: thought=\"I need to use the uber_10k tool to find the specific section about Uber's Management's Report on Internal Control over Financial Reporting for the year 2021.\" action='uber_10k' action_input={...\n",
            "\n",
            "\u001b[0m\u001b[1;3;38;2;155;135;227m> Running module process_agent_response with input: \n",
            "response_dict: {'response_str': 'Observation: {\\'output\\': ToolOutput(content=\"Uber\\'s Management\\'s Report on Internal Control over Financial Reporting stated that they excluded The Drizly Group, Inc. and TupeloPar...\n",
            "\n",
            "\u001b[0m"
          ]
        }
      ],
      "source": [
        "step_output = agent.run_step(task.task_id)"
      ]
    },
    {
      "cell_type": "code",
      "execution_count": null,
      "metadata": {
        "id": "o-eg-A-gvZf-",
        "outputId": "84c2ba22-c3f8-432c-d174-30fadcaf1088"
      },
      "outputs": [
        {
          "name": "stdout",
          "output_type": "stream",
          "text": [
            "Observation: {'output': ToolOutput(content=\"Uber's Management's Report on Internal Control over Financial Reporting stated that they excluded The Drizly Group, Inc. and TupeloParent, Inc. from their assessment of internal control over financial reporting as of December 31, 2021 due to their acquisition by the company during 2021. The report also mentioned that Drizly and TupeloParent were excluded from the audit of internal control over financial reporting.\", tool_name='uber_10k', raw_input={'input': \"What was Uber's Management's Report on Internal Control over Financial Reporting?\"}, raw_output=Response(response=\"Uber's Management's Report on Internal Control over Financial Reporting stated that they excluded The Drizly Group, Inc. and TupeloParent, Inc. from their assessment of internal control over financial reporting as of December 31, 2021 due to their acquisition by the company during 2021. The report also mentioned that Drizly and TupeloParent were excluded from the audit of internal control over financial reporting.\", source_nodes=[NodeWithScore(node=TextNode(id_='931833d8-5d9e-4f37-bd0b-1ffeb58f0256', embedding=None, metadata={'page_label': '73', 'file_name': 'uber_2021.pdf', 'file_path': 'data/10k/uber_2021.pdf', 'file_type': 'application/pdf', 'file_size': 1880483, 'creation_date': '2024-03-12', 'last_modified_date': '2024-03-12'}, excluded_embed_metadata_keys=['file_name', 'file_type', 'file_size', 'creation_date', 'last_modified_date', 'last_accessed_date'], excluded_llm_metadata_keys=['file_name', 'file_type', 'file_size', 'creation_date', 'last_modified_date', 'last_accessed_date'], relationships={<NodeRelationship.SOURCE: '1'>: RelatedNodeInfo(node_id='239d870b-d23e-4805-8761-5e83f826f10a', node_type=<ObjectType.DOCUMENT: '4'>, metadata={'page_label': '73', 'file_name': 'uber_2021.pdf', 'file_path': 'data/10k/uber_2021.pdf', 'file_type': 'application/pdf', 'file_size': 1880483, 'creation_date': '2024-03-12', 'last_modified_date': '2024-03-12'}, hash='0037c6d1cdc56230c931100529a1d35ea0d556331ddae62b0b342c2403104e69'), <NodeRelationship.PREVIOUS: '2'>: RelatedNodeInfo(node_id='733e2fd3-fded-4e9d-8698-a16782d23a57', node_type=<ObjectType.TEXT: '1'>, metadata={'page_label': '73', 'file_name': 'uber_2021.pdf', 'file_path': 'data/10k/uber_2021.pdf', 'file_type': 'application/pdf', 'file_size': 1880483, 'creation_date': '2024-03-12', 'last_modified_date': '2024-03-12'}, hash='3c2f360445d5ff1069578c4a7ba2867bd32389a5ab93ecd5ee1c8998a7c1f5fa'), <NodeRelationship.NEXT: '3'>: RelatedNodeInfo(node_id='4876454e-2f82-4460-937a-fe7398fb5974', node_type=<ObjectType.TEXT: '1'>, metadata={}, hash='bb5f14b14770778aa72510551a86642ba81040186ee787609ae76877639d2590')}, text='Our audits also included evaluating the accounting principles used and significantestimates\\n made by management, as well as evaluating the overall presentation of the consolidated financial statements. Our audit of internal control over financialreporting\\n included  obtaining  an  understanding  of  internal  control  over  financial  reporting,  assessing  the  risk  that  a  material  weakness  exists,  and  testing  andevaluating\\n the design and operating effectiveness of internal control based on the assessed risk. Our audits also included performing such other procedures as weconsidered necessary in th\\ne circumstances. We believe that our audits provide a reasonable basis for our opinions.As\\n described in Management’s Report on Internal Control over Financial Reporting, management has excluded The Drizly Group, Inc. (“Drizly”) and TupeloParent, Inc. (“Transplace”) from its assessment of internal control over financial reporting as of December 3\\n1, 2021 because they were acquired by the Company inpurchase\\n business combinations during 2021. We have also excluded Drizly and Transplace from our audit of internal control over financial reporting. Drizly andTransplace\\n are wholly-owned subsidiaries whose total assets and total revenues excluded from management’s assessment and our audit of internal control overfinancial\\n reporting collectively represent approximately 3% and 4%, respectively, of the related consolidated financial statement amounts as of and for the yearended December 31, 2021.\\nDefinition and Limitations of Internal Control over Financial Repor\\ntingA\\n company’s internal control over financial reporting is a process designed to provide reasonable assurance regarding the reliability of financial reporting and thepreparation\\n of financial statements for external purposes in accordance with generally accepted accounting principles. A company’s internal control over financialreporting includes those policies and procedures that (i) pertain to the maintenance of records that, in reasonable detail, accurately an\\nd fairly reflect the transactionsand\\n dispositions  of  the  assets  of  the  company;  (ii)  provide  reasonable  assurance  that  transactions  are  recorded  as  necessary  to  permit  preparation  of  financialstatements in accordance with\\n generally accepted accounting principles, and that receipts and expenditures of the company are being made only in accordance withauthorizations of management\\n and directors of the company; and (iii) provide reasonable assurance regarding71', start_char_idx=3733, end_char_idx=6274, text_template='{metadata_str}\\n\\n{content}', metadata_template='{key}: {value}', metadata_seperator='\\n'), score=0.9047882048131767), NodeWithScore(node=TextNode(id_='733e2fd3-fded-4e9d-8698-a16782d23a57', embedding=None, metadata={'page_label': '73', 'file_name': 'uber_2021.pdf', 'file_path': 'data/10k/uber_2021.pdf', 'file_type': 'application/pdf', 'file_size': 1880483, 'creation_date': '2024-03-12', 'last_modified_date': '2024-03-12'}, excluded_embed_metadata_keys=['file_name', 'file_type', 'file_size', 'creation_date', 'last_modified_date', 'last_accessed_date'], excluded_llm_metadata_keys=['file_name', 'file_type', 'file_size', 'creation_date', 'last_modified_date', 'last_accessed_date'], relationships={<NodeRelationship.SOURCE: '1'>: RelatedNodeInfo(node_id='239d870b-d23e-4805-8761-5e83f826f10a', node_type=<ObjectType.DOCUMENT: '4'>, metadata={'page_label': '73', 'file_name': 'uber_2021.pdf', 'file_path': 'data/10k/uber_2021.pdf', 'file_type': 'application/pdf', 'file_size': 1880483, 'creation_date': '2024-03-12', 'last_modified_date': '2024-03-12'}, hash='0037c6d1cdc56230c931100529a1d35ea0d556331ddae62b0b342c2403104e69'), <NodeRelationship.PREVIOUS: '2'>: RelatedNodeInfo(node_id='5c1073c7-33f4-4f95-bb85-515619f4135a', node_type=<ObjectType.TEXT: '1'>, metadata={'page_label': '72', 'file_name': 'uber_2021.pdf', 'file_path': 'data/10k/uber_2021.pdf', 'file_type': 'application/pdf', 'file_size': 1880483, 'creation_date': '2024-03-12', 'last_modified_date': '2024-03-12'}, hash='5e414926a8e5d3a1ad31529426a96d04ce0fd55f12624297c511c6fa00845bb3'), <NodeRelationship.NEXT: '3'>: RelatedNodeInfo(node_id='931833d8-5d9e-4f37-bd0b-1ffeb58f0256', node_type=<ObjectType.TEXT: '1'>, metadata={}, hash='87fae4857bb55d49c262875bb681de6578c8bf807af889f1cfdd6edc819c7ab2')}, text=\"Report of Independent Registered Public Accounting FirmTo the Board of Directors and Stockhold\\ners of Uber Technologies, Inc.Opinions on the Financial Statements and Internal Control over Financial Reporting\\nWe\\n have audited the accompanying consolidated balance sheets of Uber Technologies, Inc. and its subsidiaries (the “Company”) as of December 31, 2021 and2020,\\n and the related consolidated statements of operations, of comprehensive loss, of redeemable non-controlling interests and equity and of cash flows for eachof\\n the  three  years  in  the  period  ended  December  31,  2021,  including  the  related  notes  and  financial  statement  schedule  listed  in  the  accompanying  index(collectively\\n referred to as the “consolidated financial statements”). We also have audited the Company's internal control over financial reporting as of December31,\\n 2021, based on criteria established in Internal  Control - Integrated Framework (2013)  issued by the Committee of Sponsoring Organizations of the TreadwayCommission (COSO).\\nIn our\\n opinion, the consolidated financial statements referred to above present fairly, in all material respects, the financial position of the Company as of December31,\\n 2021 and 2020, and the results of its operations and its cash flows for each of the three years in the period ended December 31, 2021 in conformity withaccounting\\n principles generally accepted in the United States of America. Also in our opinion, the Company maintained, in all material respects, effective internalcontrol over financia\\nl reporting as of December 31, 2021, based on criteria established in Internal Control - Integrated Framework (2013) issued by the COSO.Changes in Accounting Principles\\nAs discussed in\\n Note 1 to the consolidated financial statements, the Company changed the manner in which it accounts for convertible instruments and contracts inan entity’s own equity in 2021 and the \\nmanner in which it accounts for leases in 2019.Basis for Opinions\\nThe\\n Company's management is responsible for these consolidated financial statements, for maintaining effective internal control over financial reporting, and forits\\n assessment of the effectiveness  of internal control over financial  reporting,  included in Management’s Report on Internal Control over Financial  Reportingappearing under Item\\n 9A. Our responsibility is to express opinions on the Company’s consolidated financial statements and on the Company's internal control overfinancial\\n reporting  based  on  our  audits.  We  are  a  public  accounting  firm  registered  with  the  Public  Company  Accounting  Oversight  Board  (United  States)(PCAOB)\\n and  are  required  to  be  independent  with  respect  to  the  Company  in  accordance  with  the  U.S.  federal  securities  laws  and  the  applicable  rules  andregulations of the Securi\\nties and Exchange Commission and the PCAOB.We\\n conducted  our  audits  in  accordance  with  the  standards  of  the  PCAOB.  Those  standards  require  that  we  plan  and  perform  the  audits  to  obtain  reasonableassurance\\n about  whether  the  consolidated  financial  statements  are  free  of  material  misstatement,  whether  due  to  error  or  fraud,  and  whether  effective  internalcontrol over financial reporti\\nng was maintained in all material respects.Our\\n audits  of  the  consolidated  financial  statements  included  performing  procedures  to  assess  the  risks  of  material  misstatement  of  the  consolidated  financialstatements,\\n whether due to error or fraud, and performing procedures that respond to those risks. Such procedures included examining, on a test basis, evidenceregarding\\n the amounts and disclosures in the consolidated financial statements. Our audits also included evaluating the accounting principles used and significantestimates\\n made by management, as well as evaluating the overall presentation of the consolidated financial statements. Our audit of internal control over financialreporting\\n included  obtaining  an  understanding  of  internal  control  over  financial  reporting,  assessing  the  risk  that  a  material  weakness  exists,  and  testing  andevaluating\\n the design and operating effectiveness of internal control based on the assessed risk. Our audits also included performing such other procedures as weconsidered necessary in th\\ne circumstances. We believe that our audits provide a reasonable basis for our opinions.As\\n described in Management’s Report on Internal Control over Financial Reporting, management has excluded The Drizly Group, Inc. (“Drizly”) and TupeloParent, Inc.\", start_char_idx=0, end_char_idx=4599, text_template='{metadata_str}\\n\\n{content}', metadata_template='{key}: {value}', metadata_seperator='\\n'), score=0.8978082427817372), NodeWithScore(node=TextNode(id_='8bd26e38-840b-46ee-88d3-7bfe8f4285da', embedding=None, metadata={'page_label': '306', 'file_name': 'uber_2021.pdf', 'file_path': 'data/10k/uber_2021.pdf', 'file_type': 'application/pdf', 'file_size': 1880483, 'creation_date': '2024-03-12', 'last_modified_date': '2024-03-12'}, excluded_embed_metadata_keys=['file_name', 'file_type', 'file_size', 'creation_date', 'last_modified_date', 'last_accessed_date'], excluded_llm_metadata_keys=['file_name', 'file_type', 'file_size', 'creation_date', 'last_modified_date', 'last_accessed_date'], relationships={<NodeRelationship.SOURCE: '1'>: RelatedNodeInfo(node_id='64b95267-2f6a-4c1f-8d8f-9de7fe76f4c8', node_type=<ObjectType.DOCUMENT: '4'>, metadata={'page_label': '306', 'file_name': 'uber_2021.pdf', 'file_path': 'data/10k/uber_2021.pdf', 'file_type': 'application/pdf', 'file_size': 1880483, 'creation_date': '2024-03-12', 'last_modified_date': '2024-03-12'}, hash='df98f8c54de64315e8021891795f855846ef72199e1261097b125f88c8178f86'), <NodeRelationship.PREVIOUS: '2'>: RelatedNodeInfo(node_id='75ed4d3d-893c-4466-8dc7-687f1934419b', node_type=<ObjectType.TEXT: '1'>, metadata={'page_label': '305', 'file_name': 'uber_2021.pdf', 'file_path': 'data/10k/uber_2021.pdf', 'file_type': 'application/pdf', 'file_size': 1880483, 'creation_date': '2024-03-12', 'last_modified_date': '2024-03-12'}, hash='2137604806ace0fa5b98cfb9734001992adc7b29e39ae0c0a7825cb9f6d5602e'), <NodeRelationship.NEXT: '3'>: RelatedNodeInfo(node_id='cd51a0cc-80a7-421b-ae34-c7b914f997e6', node_type=<ObjectType.TEXT: '1'>, metadata={}, hash='3249f19608f14fd995c4e7168eeaecbb6a5663275b96522764a0d0521c921ae7')}, text='Exhibit 31.2CERTIFICATION OF PR\\nINCIPAL FINANCIAL OFFICERPURSUANT TO EXCHANGE A\\nCT RULES 13a-14(a) AND 15d-14(a)AS ADOPTED PURSUANT TO SECTI\\nON 302 OF THE SARBANES-OXLEY ACT OF 2002I, Nelson Chai, certify that:\\n1.\\nI have reviewed this Annual Report on For m 10-K of Uber Technologies, Inc.;2.\\nBased on my knowledge, this report does not contain any untrue statement of a material fact or omit to state a material fact necessary to make thestatements made, in l\\night of the circumstances under which such statements were made, not misleading with respect to the period covered by this report;3.\\nBased on my knowledge, the financia l statements, and other financial information included in this report, fairly present in all material respects thefinancial condition, r\\nesults of operations and cash flows of the registrant as of, and for, the periods presented in this report;4.\\nThe registrant’s other certifying officer and I are responsible for establishing and maintaining disclosure controls and procedures (as defined in ExchangeAct Rules 13a-15(e) and 15d-15(e)\\n) and internal control over financial reporting (as defined in Exchange Act Rules 13a-15(f) and 15d-15(f)) for theregistrant and have:\\n(a)\\nDesigned such disclosure controls and procedures, or caused such disclosure controls and procedures to be designed under our supervision, toensure that materi\\nal information relating to the registrant, including its consolidated subsidiaries, is made known to us by others within thoseentities, particul\\narly during the period in which this report is being prepared;(b)\\nDesigned such internal contro l over financial reporting, or caused such internal control over financial reporting to be designed under oursupervision, to provide reasonab\\nle assurance regarding the reliability of financial reporting and the preparation of financial statements forexternal purposes in acc\\nordance with generally accepted accounting principles;(c)\\nEvaluated the effec tiveness of the registrant’s disclosure controls and procedures and presented in this report our conclusions about theeffectiveness of the d\\nisclosure controls and procedures, as of the end of the period covered by this report based on such evaluation; and(d)\\nDisclosed in this report any ch ange in the registrant’s internal control over financial reporting that occurred during the registrant’s most recentfiscal quarter (the registrant’s f\\nourth fiscal quarter in the case of an annual report) that has materially affected, or is reasonably likely tomaterially affect, the registrant’s inter\\nnal control over financial reporting; and5.\\nThe registrant’s other certifying officer and I have disclosed, based on our most recent evaluation of internal control over financial reporting, to theregistrant’s auditors and\\n the audit committee of the registrant’s board of directors (or persons performing the equivalent functions):(a)\\nAll significant defic iencies and material weaknesses in the design or operation of internal control over financial reporting which are reasonablylikely to adversely affect the\\n registrant’s ability to record, process, summarize and report financial information; and(b)\\nAny fraud, whether or not mater ial, that involves management or other employees who have a significant role in the registrant’s internal controlover financial reporting.\\nDate:\\nFebruary 24, 2022 By: /s/ Nelson Chai Nelson Chai\\nChief Financial Officer\\n(Principal Financial Offic\\ner)', start_char_idx=0, end_char_idx=3440, text_template='{metadata_str}\\n\\n{content}', metadata_template='{key}: {value}', metadata_seperator='\\n'), score=0.876161937500491)], metadata={'931833d8-5d9e-4f37-bd0b-1ffeb58f0256': {'page_label': '73', 'file_name': 'uber_2021.pdf', 'file_path': 'data/10k/uber_2021.pdf', 'file_type': 'application/pdf', 'file_size': 1880483, 'creation_date': '2024-03-12', 'last_modified_date': '2024-03-12'}, '733e2fd3-fded-4e9d-8698-a16782d23a57': {'page_label': '73', 'file_name': 'uber_2021.pdf', 'file_path': 'data/10k/uber_2021.pdf', 'file_type': 'application/pdf', 'file_size': 1880483, 'creation_date': '2024-03-12', 'last_modified_date': '2024-03-12'}, '8bd26e38-840b-46ee-88d3-7bfe8f4285da': {'page_label': '306', 'file_name': 'uber_2021.pdf', 'file_path': 'data/10k/uber_2021.pdf', 'file_type': 'application/pdf', 'file_size': 1880483, 'creation_date': '2024-03-12', 'last_modified_date': '2024-03-12'}}))}\n"
          ]
        }
      ],
      "source": [
        "print(step_output)"
      ]
    },
    {
      "cell_type": "code",
      "execution_count": null,
      "metadata": {
        "id": "atcDa00CvZf_"
      },
      "outputs": [],
      "source": [
        "# start task\n",
        "task = agent.create_task(\"What was Lyft's revenue growth in 2021?\")"
      ]
    },
    {
      "cell_type": "code",
      "execution_count": null,
      "metadata": {
        "id": "yMR3vBVcvZgA",
        "outputId": "4473b65c-696a-4314-e77d-0490dd44e3cb"
      },
      "outputs": [
        {
          "name": "stdout",
          "output_type": "stream",
          "text": [
            "> Running step ee9eff5f-a4be-4b76-bae6-d05d2af41ecd. Step input: What was Lyft's revenue growth in 2021?\n",
            "\u001b[1;3;38;2;155;135;227m> Running module agent_input with input: \n",
            "state: {'sources': [], 'memory': ChatMemoryBuffer(token_limit=3000, tokenizer_fn=functools.partial(<bound method Encoding.encode of <Encoding 'cl100k_base'>>, allowed_special='all'), chat_store=SimpleChatSto...\n",
            "task: task_id='7a038afc-3ead-4b0c-a924-41cd4f465270' input=\"What was Lyft's revenue growth in 2021?\" memory=ChatMemoryBuffer(token_limit=3000, tokenizer_fn=functools.partial(<bound method Encoding.encode of...\n",
            "\n",
            "\u001b[0m\u001b[1;3;38;2;155;135;227m> Running module react_prompt with input: \n",
            "input: What was Lyft's revenue growth in 2021?\n",
            "\n",
            "\u001b[0m\u001b[1;3;38;2;155;135;227m> Running module llm with input: \n",
            "messages: [ChatMessage(role=<MessageRole.SYSTEM: 'system'>, content='\\nYou are designed to help with a variety of tasks, from answering questions     to providing summaries to other types of analyses.\\n\\n## Too...\n",
            "\n",
            "\u001b[0m\u001b[1;3;38;2;155;135;227m> Running module react_output_parser with input: \n",
            "chat_response: assistant: Thought: I need to use the lyft_10k tool to find out the revenue growth for Lyft in 2021.\n",
            "Action: lyft_10k\n",
            "Action Input: {\"input\": \"What was Lyft's revenue growth in 2021?\"}\n",
            "\n",
            "\u001b[0m\u001b[1;3;38;2;155;135;227m> Running module run_tool with input: \n",
            "reasoning_step: thought='I need to use the lyft_10k tool to find out the revenue growth for Lyft in 2021.' action='lyft_10k' action_input={'input': \"What was Lyft's revenue growth in 2021?\"}\n",
            "\n",
            "\u001b[0m\u001b[1;3;38;2;155;135;227m> Running module process_agent_response with input: \n",
            "response_dict: {'response_str': 'Observation: {\\'output\\': ToolOutput(content=\"Lyft\\'s revenue increased by 36% in 2021 compared to the prior year.\", tool_name=\\'lyft_10k\\', raw_input={\\'input\\': \"What was Lyft\\'s r...\n",
            "\n",
            "\u001b[0m"
          ]
        }
      ],
      "source": [
        "step_output = agent.run_step(task.task_id)"
      ]
    },
    {
      "cell_type": "code",
      "execution_count": null,
      "metadata": {
        "id": "hvzlEO4TvZgB",
        "outputId": "c0864a67-1a23-4fee-ebb0-03eee3a65a46"
      },
      "outputs": [
        {
          "name": "stdout",
          "output_type": "stream",
          "text": [
            "> Running step 279c7a46-ce9d-4202-bec4-01d5c1ed50bd. Step input: None\n",
            "\u001b[1;3;38;2;155;135;227m> Running module agent_input with input: \n",
            "state: {'sources': [], 'memory': ChatMemoryBuffer(token_limit=3000, tokenizer_fn=functools.partial(<bound method Encoding.encode of <Encoding 'cl100k_base'>>, allowed_special='all'), chat_store=SimpleChatSto...\n",
            "task: task_id='7a038afc-3ead-4b0c-a924-41cd4f465270' input=\"What was Lyft's revenue growth in 2021?\" memory=ChatMemoryBuffer(token_limit=3000, tokenizer_fn=functools.partial(<bound method Encoding.encode of...\n",
            "\n",
            "\u001b[0m\u001b[1;3;38;2;155;135;227m> Running module react_prompt with input: \n",
            "input: What was Lyft's revenue growth in 2021?\n",
            "\n",
            "\u001b[0m\u001b[1;3;38;2;155;135;227m> Running module llm with input: \n",
            "messages: [ChatMessage(role=<MessageRole.SYSTEM: 'system'>, content='\\nYou are designed to help with a variety of tasks, from answering questions     to providing summaries to other types of analyses.\\n\\n## Too...\n",
            "\n",
            "\u001b[0m\u001b[1;3;38;2;155;135;227m> Running module react_output_parser with input: \n",
            "chat_response: assistant: Thought: The user has repeated the question, but the tool has already provided the answer.\n",
            "\n",
            "Answer: Lyft's revenue increased by 36% in 2021 compared to the prior year.\n",
            "\n",
            "\u001b[0m\u001b[1;3;38;2;155;135;227m> Running module process_response with input: \n",
            "response_step: thought='The user has repeated the question, but the tool has already provided the answer.' response=\"Lyft's revenue increased by 36% in 2021 compared to the prior year.\" is_streaming=False\n",
            "\n",
            "\u001b[0m\u001b[1;3;38;2;155;135;227m> Running module process_agent_response with input: \n",
            "response_dict: {'response_str': \"Lyft's revenue increased by 36% in 2021 compared to the prior year.\", 'is_done': True}\n",
            "\n",
            "\u001b[0m"
          ]
        }
      ],
      "source": [
        "step_output = agent.run_step(task.task_id)"
      ]
    },
    {
      "cell_type": "code",
      "execution_count": null,
      "metadata": {
        "id": "wWgQYLPivZgC",
        "outputId": "d14fb61a-21b1-463a-9557-9feec6d29622"
      },
      "outputs": [
        {
          "data": {
            "text/plain": [
              "True"
            ]
          },
          "execution_count": null,
          "metadata": {},
          "output_type": "execute_result"
        }
      ],
      "source": [
        "step_output.is_last"
      ]
    },
    {
      "cell_type": "code",
      "execution_count": null,
      "metadata": {
        "id": "q4l4zqONvZgD",
        "outputId": "3df38642-fcbb-4735-ab02-d17e03720242"
      },
      "outputs": [
        {
          "name": "stdout",
          "output_type": "stream",
          "text": [
            "Uber's Management's Report on Internal Control over Financial Reporting for the year ended December 31, 2021, stated that management excluded The Drizly Group, Inc. (\"Drizly\") and TupeloParent, Inc. (\"Transplace\") from its assessment of internal control over financial reporting. This exclusion was due to their acquisition by the company during 2021. Drizly and Transplace were wholly-owned subsidiaries whose total assets and total revenues collectively represented approximately 3% and 4%, respectively, of the related consolidated financial statement amounts for the year.\n"
          ]
        }
      ],
      "source": [
        "print(step_output)"
      ]
    },
    {
      "cell_type": "code",
      "execution_count": null,
      "metadata": {
        "id": "u9hKdrxLvZgD"
      },
      "outputs": [],
      "source": [
        "response = agent.finalize_response(task.task_id)"
      ]
    },
    {
      "cell_type": "code",
      "execution_count": null,
      "metadata": {
        "id": "z5geschlvZgE",
        "outputId": "d2d00360-aca3-4e96-dd9b-c9656ed07bee"
      },
      "outputs": [
        {
          "name": "stdout",
          "output_type": "stream",
          "text": [
            "Uber's Management's Report on Internal Control over Financial Reporting for the year ended December 31, 2021, stated that management excluded The Drizly Group, Inc. (\"Drizly\") and TupeloParent, Inc. (\"Transplace\") from its assessment of internal control over financial reporting. This exclusion was due to their acquisition by the company during 2021. Drizly and Transplace were wholly-owned subsidiaries whose total assets and total revenues collectively represented approximately 3% and 4%, respectively, of the related consolidated financial statement amounts for the year.\n"
          ]
        }
      ],
      "source": [
        "print(str(response))"
      ]
    }
  ],
  "metadata": {
    "accelerator": "GPU",
    "colab": {
      "gpuType": "T4",
      "provenance": []
    },
    "kernelspec": {
      "display_name": "Python 3",
      "name": "python3"
    },
    "language_info": {
      "name": "python"
    }
  },
  "nbformat": 4,
  "nbformat_minor": 0
}